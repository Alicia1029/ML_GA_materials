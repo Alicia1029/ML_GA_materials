{
 "cells": [
  {
   "cell_type": "markdown",
   "id": "145f9635-74d7-483b-9c90-32aff0919d83",
   "metadata": {},
   "source": [
    "#### Encode the ground truth latent space of Ag "
   ]
  },
  {
   "cell_type": "code",
   "execution_count": 1,
   "id": "608d6a2f-c7af-493d-b546-71600b4a6c51",
   "metadata": {},
   "outputs": [
    {
     "name": "stdout",
     "output_type": "stream",
     "text": [
      "CHGNet initialized with 400,438 parameters\n",
      "CHGNet will run on cpu\n"
     ]
    },
    {
     "name": "stderr",
     "output_type": "stream",
     "text": [
      "/mnt/c/Users/Lenovo/Downloads/chgnet/chgnet/graph/converter.py:70: UserWarning: `fast` algorithm is not available, using `legacy`\n",
      "  warnings.warn(\n"
     ]
    }
   ],
   "source": [
    "from pymatgen.core import Structure, Lattice\n",
    "from pymatgen.io.ase import AseAtomsAdaptor\n",
    "from chgnet.model import StructOptimizer\n",
    "\n",
    "relaxer = StructOptimizer()"
   ]
  },
  {
   "cell_type": "code",
   "execution_count": 3,
   "id": "8b0a3ecb-1fc7-483c-a0b4-dd6a00319b3b",
   "metadata": {},
   "outputs": [
    {
     "name": "stderr",
     "output_type": "stream",
     "text": [
      "/home/fhj/anaconda3/lib/python3.10/site-packages/pymatgen/io/cif.py:1148: UserWarning: Issues encountered while parsing CIF: Some fractional coordinates rounded to ideal values to avoid issues with finite precision.\n",
      "  warnings.warn(\"Issues encountered while parsing CIF: \" + \"\\n\".join(self.warnings))\n"
     ]
    }
   ],
   "source": [
    "# Reference structure of Ag from Materials Project, id=mp-124\n",
    "ag_structure = Structure.from_file(\"/mnt/c/Users/Lenovo/Downloads/cdvae2/structures_GA/ag_cif/Ag_124.cif\")\n",
    "ag_atoms = AseAtomsAdaptor.get_atoms(ag_structure)\n",
    "\n",
    "# Reference structure of Ag from Materials Project, id=mp-8566\n",
    "ag_structure1 = Structure.from_file(\"/mnt/c/Users/Lenovo/Downloads/cdvae2/structures_GA/ag_cif/Ag_8566.cif\")\n",
    "ag_atoms1 = AseAtomsAdaptor.get_atoms(ag_structure1)\n",
    "\n",
    "# Reference structure of Ag from Materials Project, id=mp-10597\n",
    "ag_structure2 = Structure.from_file(\"/mnt/c/Users/Lenovo/Downloads/cdvae2/structures_GA/ag_cif/Ag_10597.cif\")\n",
    "ag_atoms2 = AseAtomsAdaptor.get_atoms(ag_structure2)\n",
    "\n",
    "# Reference structure of Ag from Materials Project, id=mp-989737\n",
    "ag_structure3 = Structure.from_file(\"/mnt/c/Users/Lenovo/Downloads/cdvae2/structures_GA/ag_cif/Ag_989737.cif\")\n",
    "ag_atoms3 = AseAtomsAdaptor.get_atoms(ag_structure3)\n",
    "\n",
    "# Reference structure of Ag from Materials Project, id=mp-2646971\n",
    "ag_structure4 = Structure.from_file(\"/mnt/c/Users/Lenovo/Downloads/cdvae2/structures_GA/ag_cif/Ag_2646971.cif\")\n",
    "ag_atoms4 = AseAtomsAdaptor.get_atoms(ag_structure4)"
   ]
  },
  {
   "cell_type": "markdown",
   "id": "716d662b-9f56-4689-b71d-bb459986048e",
   "metadata": {},
   "source": [
    "- Test if cosine similarity could distinguish 5 Ag structures encoded by CHGNet in latent space"
   ]
  },
  {
   "cell_type": "code",
   "execution_count": 33,
   "id": "7ca559f5-2a6e-47c2-98b3-9c2372b43d8d",
   "metadata": {},
   "outputs": [],
   "source": [
    "b_ref = relaxer.calculator.model.graph_converter(ag_structure3)\n",
    "h_ref = relaxer.calculator.model.forward([b_ref], return_crystal_feas=True)[\"crystal_fea\"][0]"
   ]
  },
  {
   "cell_type": "code",
   "execution_count": 78,
   "id": "338ba1e8-7cd8-4134-9c17-4e09b4d04174",
   "metadata": {},
   "outputs": [
    {
     "name": "stdout",
     "output_type": "stream",
     "text": [
      "0.9994632005691528\n"
     ]
    }
   ],
   "source": [
    "b_ref1 = relaxer.calculator.model.graph_converter(ag_structure4)\n",
    "h_ref1 = relaxer.calculator.model.forward([b_ref1], return_crystal_feas=True)[\"crystal_fea\"][0]\n",
    "\n",
    "print(float(F.cosine_similarity(h_ref, h_ref1, dim=0, eps=1e-8)))"
   ]
  },
  {
   "cell_type": "markdown",
   "id": "f8f8b8d9-67fc-431b-9bbb-048fba5b9d8e",
   "metadata": {},
   "source": [
    "- Verify the potential energy of Ag structures"
   ]
  },
  {
   "cell_type": "code",
   "execution_count": 42,
   "id": "d995041b-1551-49b2-a364-dfc3a29a8c63",
   "metadata": {},
   "outputs": [
    {
     "data": {
      "text/plain": [
       "-11.16677474975586"
      ]
     },
     "execution_count": 42,
     "metadata": {},
     "output_type": "execute_result"
    }
   ],
   "source": [
    "result = relaxer.relax(atoms_to_structure(ag_atoms), fmax=1e-3, maxmove=0.2, verbose=False)\n",
    "result[\"trajectory\"].energies[-1]"
   ]
  },
  {
   "cell_type": "code",
   "execution_count": 43,
   "id": "5105488b-a854-4810-b15c-50c4b68de245",
   "metadata": {},
   "outputs": [
    {
     "name": "stdout",
     "output_type": "stream",
     "text": [
      "True (0.0, 0.0)\n"
     ]
    }
   ],
   "source": [
    "from pymatgen.symmetry.analyzer import SpacegroupAnalyzer\n",
    "from pymatgen.analysis.structure_matcher import StructureMatcher\n",
    "from pymatgen.core import Structure\n",
    "\n",
    "s = result['final_structure']\n",
    "sga = SpacegroupAnalyzer(s, symprec=0.001)\n",
    "ps = sga.get_conventional_standard_structure()\n",
    "\n",
    "sm = StructureMatcher(scale=False, primitive_cell=False)\n",
    "print(sm.fit(ag_structure, ps), sm.get_rms_dist(ag_structure, ps))"
   ]
  },
  {
   "cell_type": "code",
   "execution_count": 10,
   "id": "8f8183af-7f56-423f-b395-afdeab713745",
   "metadata": {},
   "outputs": [
    {
     "name": "stderr",
     "output_type": "stream",
     "text": [
      "/home/fhj/anaconda3/lib/python3.10/site-packages/ase/optimize/fire.py:65: VisibleDeprecationWarning: maxmove is deprecated; please use maxstep\n",
      "  warnings.warn('maxmove is deprecated; please use maxstep',\n"
     ]
    },
    {
     "data": {
      "text/plain": [
       "-5.54036808013916"
      ]
     },
     "execution_count": 10,
     "metadata": {},
     "output_type": "execute_result"
    }
   ],
   "source": [
    "relax(ag_atoms4)\n",
    "ag_atoms4.get_potential_energy()"
   ]
  },
  {
   "cell_type": "code",
   "execution_count": 6,
   "id": "2e76ce44-8f26-44b8-976a-efb8fc723f1b",
   "metadata": {},
   "outputs": [],
   "source": [
    "from ase.calculators.singlepoint import SinglePointCalculator\n",
    "from ase.ga import set_raw_score\n",
    "import io\n",
    "from ase.constraints import ExpCellFilter\n",
    "import contextlib\n",
    "from ase.optimize import FIRE\n",
    "import ase\n",
    "from ase.build import niggli_reduce\n",
    "from torch.nn import functional as F\n",
    "\n",
    "def atoms_to_structure(atoms):\n",
    "    lattice = Lattice(atoms.cell)\n",
    "    symbols = atoms.get_chemical_symbols()\n",
    "    positions = atoms.get_positions()\n",
    "    return Structure(lattice, symbols, positions, coords_are_cartesian=True)\n",
    "\n",
    "def finalize(atoms, energy=None, forces=None, stress=None):\n",
    "    # Finalizes the atoms by attaching a SinglePointCalculator\n",
    "    # and setting the raw score as the negative of the total energy\n",
    "    atoms.wrap()\n",
    "    calc = SinglePointCalculator(atoms, energy=energy, forces=forces,\n",
    "                                 stress=stress)\n",
    "    atoms.calc = calc\n",
    "    raw_score = -atoms.get_potential_energy()\n",
    "    set_raw_score(atoms, raw_score)\n",
    "\n",
    "def relax(atoms, cellbounds=None):\n",
    "    atoms.calc = relaxer.calculator  # assign model used to predict forces\n",
    "\n",
    "    converged = False\n",
    "    niter = 0\n",
    "    stream = io.StringIO()\n",
    "    with contextlib.redirect_stdout(stream):\n",
    "        while not converged and niter < 10:\n",
    "            if cellbounds is not None:\n",
    "                cell = atoms.get_cell()\n",
    "                if not cellbounds.is_within_bounds(cell):\n",
    "                    niggli_reduce(atoms)\n",
    "                cell = atoms.get_cell()\n",
    "                if not cellbounds.is_within_bounds(cell):\n",
    "                    # Niggli reduction did not bring the unit cell\n",
    "                    # within the specified bounds; this candidate should\n",
    "                    # be discarded so we set an absurdly high energy\n",
    "                    finalize(atoms, 1e9)\n",
    "                    return\n",
    "                \n",
    "            ecf = ExpCellFilter(atoms)\n",
    "            dyn = FIRE(ecf, maxmove=0.2, logfile=None, trajectory=None)\n",
    "            dyn.run(fmax=1e-3, steps=100)\n",
    "\n",
    "            converged = dyn.converged()\n",
    "            niter += 1\n",
    "    \n",
    "    dyn = FIRE(atoms, maxmove=0.2, logfile=None, trajectory=None)\n",
    "    dyn.run(fmax=1e-2, steps=100)\n",
    "\n",
    "    e = atoms.get_potential_energy()\n",
    "    f = atoms.get_forces()\n",
    "    s = atoms.get_stress()\n",
    "\n",
    "    finalize(atoms, energy=e, forces=f, stress=s)"
   ]
  },
  {
   "cell_type": "code",
   "execution_count": null,
   "id": "62a2288c-7294-4736-a36e-31ce1e240962",
   "metadata": {},
   "outputs": [],
   "source": []
  }
 ],
 "metadata": {
  "kernelspec": {
   "display_name": "Python 3 (ipykernel)",
   "language": "python",
   "name": "python3"
  },
  "language_info": {
   "codemirror_mode": {
    "name": "ipython",
    "version": 3
   },
   "file_extension": ".py",
   "mimetype": "text/x-python",
   "name": "python",
   "nbconvert_exporter": "python",
   "pygments_lexer": "ipython3",
   "version": "3.10.9"
  }
 },
 "nbformat": 4,
 "nbformat_minor": 5
}
