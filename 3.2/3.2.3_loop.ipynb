{
 "cells": [
  {
   "cell_type": "code",
   "execution_count": 1,
   "id": "c6917c5f-c709-4f7f-a51c-87cf5dd8c45b",
   "metadata": {
    "tags": []
   },
   "outputs": [],
   "source": [
    "from hydra.experimental import compose\n",
    "from hydra import initialize_config_dir\n",
    "import hydra\n",
    "from pathlib import Path\n",
    "import numpy as np\n",
    "import pandas as pd\n",
    "import torch\n",
    "from torch.nn import functional as F\n",
    "import cdvae\n",
    "import os"
   ]
  },
  {
   "cell_type": "markdown",
   "id": "2036d1f5-c989-422b-a5ce-ef04cb3ac16a",
   "metadata": {
    "tags": []
   },
   "source": [
    "#### Load cdvae model for mp_20"
   ]
  },
  {
   "cell_type": "code",
   "execution_count": 2,
   "id": "12bb711c-7352-4a1b-a992-e9c1cfb13fd1",
   "metadata": {
    "tags": []
   },
   "outputs": [],
   "source": [
    "os.environ[\"PROJECT_ROOT\"] = \"/mnt/c/Users/Lenovo/Downloads/cdvae2\"\n",
    "os.environ[\"HYDRA_JOBS\"] = \"/mnt/c/Users/Lenovo/Downloads/cdvae2\"\n",
    "os.environ[\"WABDB_DIR\"] = \"/mnt/c/Users/Lenovo/Downloads/cdvae2\""
   ]
  },
  {
   "cell_type": "code",
   "execution_count": 3,
   "id": "18c85bb2-e162-4f1b-bf01-a89a73100290",
   "metadata": {
    "tags": []
   },
   "outputs": [],
   "source": [
    "model_path = Path(\"/mnt/c/Users/Lenovo/Downloads/cdvae2/singlerun/2023-05-19/mp_20\")\n",
    "\n",
    "with initialize_config_dir(str(model_path)):\n",
    "    ckpts = list(model_path.glob('epoch*.ckpt'))\n",
    "    if len(ckpts) > 0:\n",
    "        ckpt_epochs = np.array(\n",
    "            [int(ckpt.parts[-1].split('-')[0].split('=')[1]) for ckpt in ckpts])\n",
    "        ckpt = str(ckpts[ckpt_epochs.argsort()[-1]])\n",
    "        \n",
    "checkpoint = torch.load(ckpt, map_location=torch.device('cpu'))\n",
    "\n",
    "gemnet_path = Path(cdvae.__file__).parent / \"pl_modules/gemnet/gemnet-dT.json\"\n",
    "checkpoint[\"hyper_parameters\"][\"decoder\"][\"scale_file\"] = str(gemnet_path)\n",
    "ckpt = model_path / \"checkpoint_edit.ckpt\"\n",
    "torch.save(checkpoint, model_path / \"checkpoint_edit.ckpt\")"
   ]
  },
  {
   "cell_type": "code",
   "execution_count": 4,
   "id": "7973cebd-cb0c-4d4e-8781-a3d1e36ee74c",
   "metadata": {
    "tags": []
   },
   "outputs": [
    {
     "name": "stderr",
     "output_type": "stream",
     "text": [
      "/home/fhj/anaconda3/envs/cdvae/lib/python3.8/site-packages/hydra/experimental/compose.py:16: UserWarning: hydra.experimental.compose() is no longer experimental. Use hydra.compose()\n",
      "  warnings.warn(\n"
     ]
    }
   ],
   "source": [
    "with initialize_config_dir(str(model_path)):\n",
    "    # load config\n",
    "    cfg = compose(config_name='hparams')\n",
    "    \n",
    "    # load model\n",
    "    model = hydra.utils.instantiate(\n",
    "        cfg.model,\n",
    "        optim=cfg.optim,\n",
    "        data=cfg.data,\n",
    "        logging=cfg.logging,\n",
    "        _recursive_=False,\n",
    "    )\n",
    "    \n",
    "    model = model.load_from_checkpoint(ckpt)\n",
    "    model.lattice_scaler = torch.load(model_path / 'lattice_scaler.pt')\n",
    "    model.scaler = torch.load(model_path / 'prop_scaler.pt')"
   ]
  },
  {
   "cell_type": "markdown",
   "id": "b6953d50-13d3-4a25-b26a-000ed4ffe8e4",
   "metadata": {},
   "source": [
    "#### Define functions to get a batch from a cif string\n",
    "\n",
    "First load lattice and property scalers"
   ]
  },
  {
   "cell_type": "code",
   "execution_count": 5,
   "id": "18e2be8d-25c6-4122-bafc-72eebb5541ab",
   "metadata": {
    "tags": []
   },
   "outputs": [],
   "source": [
    "lattice_scaler = model.lattice_scaler\n",
    "scaler = model.scaler"
   ]
  },
  {
   "cell_type": "markdown",
   "id": "3158faaa-d02c-401a-bb53-80b2d1db414f",
   "metadata": {},
   "source": [
    "Now define function that takes in a string and returns the batch"
   ]
  },
  {
   "cell_type": "code",
   "execution_count": 6,
   "id": "0cb6716e-1e29-4ac4-8796-57bce85784dc",
   "metadata": {},
   "outputs": [],
   "source": [
    "from cdvae.common.data_utils import build_crystal, build_crystal_graph, add_scaled_lattice_prop\n",
    "from torch_geometric.data import Data, Batch\n",
    "from pymatgen.io.ase import AseAtomsAdaptor\n",
    "from pymatgen.core import Lattice, Structure\n",
    "\n",
    "def atoms_to_structure(atoms):\n",
    "    lattice = Lattice.from_parameters(*atoms.cell.cellpar())\n",
    "    symbols = atoms.get_chemical_symbols()\n",
    "    positions = atoms.get_positions()\n",
    "    return Structure(lattice, symbols, positions, coords_are_cartesian=True)\n",
    "\n",
    "\n",
    "def process_one(atoms, graph_method=\"crystalnn\", formation_energy_per_atom=0, material_id=0):\n",
    "    crystal = atoms_to_structure(atoms)\n",
    "    graph_arrays = build_crystal_graph(crystal, graph_method)\n",
    "    return {\n",
    "        'mp_id': material_id,\n",
    "        'cif': crystal.to(fmt=\"cif\"),\n",
    "        'graph_arrays': graph_arrays,\n",
    "        \"formation_energy_per_atom\": formation_energy_per_atom,\n",
    "    }\n",
    "\n",
    "def get_batch(atoms, **process_kwargs):\n",
    "    d = [process_one(atoms, **process_kwargs)]\n",
    "    add_scaled_lattice_prop(d, \"scale_length\")\n",
    "    (frac_coords, atom_types, lengths, angles, edge_indices,\n",
    "     to_jimages, num_atoms) = d[0]['graph_arrays']\n",
    "\n",
    "    prop = scaler.transform(d[0][\"formation_energy_per_atom\"])\n",
    "    data = Data(\n",
    "        frac_coords=torch.Tensor(frac_coords),\n",
    "        atom_types=torch.LongTensor(atom_types),\n",
    "        lengths=torch.Tensor(lengths).view(1, -1),\n",
    "        angles=torch.Tensor(angles).view(1, -1),\n",
    "        edge_index=torch.LongTensor(\n",
    "            edge_indices.T).contiguous(),  # shape (2, num_edges)\n",
    "        to_jimages=torch.LongTensor(to_jimages),\n",
    "        num_atoms=num_atoms,\n",
    "        num_bonds=edge_indices.shape[0],\n",
    "        num_nodes=num_atoms,  # special attribute used for batching in pytorch geometric\n",
    "        y=prop.view(1, -1),\n",
    "    )\n",
    "\n",
    "    return Batch.from_data_list([data])"
   ]
  },
  {
   "cell_type": "markdown",
   "id": "d2360fdc-6396-4981-9b66-e48022aa2338",
   "metadata": {},
   "source": [
    "#### Ground truth latent space of Ag generation"
   ]
  },
  {
   "cell_type": "code",
   "execution_count": 17,
   "id": "ffa1198b-5fd9-4888-85a4-fbacb5475fdf",
   "metadata": {
    "tags": []
   },
   "outputs": [],
   "source": [
    "from pymatgen.core import Structure, Lattice\n",
    "\n",
    "ag_cif = \"# generated using pymatgen\\ndata_Ag\\n_symmetry_space_group_name_H-M   'P 1'\\n_cell_length_a   4.10435636\\n_cell_length_b   4.10435636\\n_cell_length_c   4.10435636\\n_cell_angle_alpha   90.00000000\\n_cell_angle_beta   90.00000000\\n_cell_angle_gamma   90.00000000\\n_symmetry_Int_Tables_number   1\\n_chemical_formula_structural   Ag\\n_chemical_formula_sum   Ag4\\n_cell_volume   69.14092475\\n_cell_formula_units_Z   4\\nloop_\\n _symmetry_equiv_pos_site_id\\n _symmetry_equiv_pos_as_xyz\\n  1  'x, y, z'\\nloop_\\n _atom_site_type_symbol\\n _atom_site_label\\n _atom_site_symmetry_multiplicity\\n _atom_site_fract_x\\n _atom_site_fract_y\\n _atom_site_fract_z\\n _atom_site_occupancy\\n  Ag  Ag0  1  0.00000000  0.00000000  0.00000000  1.0\\n  Ag  Ag1  1  0.50000000  0.50000000  0.00000000  1.0\\n  Ag  Ag2  1  0.50000000  0.00000000  0.50000000  1.0\\n  Ag  Ag3  1  0.00000000  0.50000000  0.50000000  1.0\\n\"\n",
    "ag_structure = Structure.from_str(ag_cif, fmt=\"cif\")\n",
    "ag_atoms = AseAtomsAdaptor.get_atoms(ag_structure)"
   ]
  },
  {
   "cell_type": "code",
   "execution_count": 7,
   "id": "abcbe2bf-3188-43fb-b2fc-c08db1882922",
   "metadata": {},
   "outputs": [
    {
     "name": "stderr",
     "output_type": "stream",
     "text": [
      "/home/fhj/anaconda3/envs/cdvae/lib/python3.8/site-packages/pymatgen/io/cif.py:1134: UserWarning: Issues encountered while parsing CIF: Some fractional coordinates rounded to ideal values to avoid issues with finite precision.\n",
      "  warnings.warn(\"Issues encountered while parsing CIF: \" + \"\\n\".join(self.warnings))\n"
     ]
    }
   ],
   "source": [
    "ag_structure = Structure.from_file(\"/mnt/c/Users/Lenovo/Downloads/cdvae2/structures_GA/ag_cif/Ag_989737.cif\")\n",
    "ag_atoms = AseAtomsAdaptor.get_atoms(ag_structure)"
   ]
  },
  {
   "cell_type": "code",
   "execution_count": 8,
   "id": "d30d343e-5e69-4f55-ba26-6fa787a5dd80",
   "metadata": {
    "tags": []
   },
   "outputs": [],
   "source": [
    "batch = get_batch(ag_atoms)\n",
    "mu_t, log_t, z_t = model.encode(batch)"
   ]
  },
  {
   "cell_type": "markdown",
   "id": "ef4ee656-9ccb-40c3-a28a-0d1b80445c2a",
   "metadata": {},
   "source": [
    "#### Relax function"
   ]
  },
  {
   "cell_type": "code",
   "execution_count": 9,
   "id": "fddd95f4-3fe8-4a4b-8fc3-4b8474c00424",
   "metadata": {
    "tags": []
   },
   "outputs": [
    {
     "name": "stdout",
     "output_type": "stream",
     "text": [
      "CHGNet initialized with 400,438 parameters\n",
      "CHGNet will run on cpu\n"
     ]
    }
   ],
   "source": [
    "import ase\n",
    "from ase.ga import set_raw_score\n",
    "from chgnet.model import StructOptimizer\n",
    "from ase.calculators.singlepoint import SinglePointCalculator\n",
    "\n",
    "def finalize(atoms, energy=None, forces=None, stress=None):\n",
    "    # Finalizes the atoms by attaching a SinglePointCalculator\n",
    "    # and setting the raw score as the negative of the total energy\n",
    "    atoms.wrap()\n",
    "    calc = SinglePointCalculator(atoms, energy=energy, forces=forces,\n",
    "                                 stress=stress)\n",
    "    atoms.calc = calc\n",
    "    raw_score = atoms.get_potential_energy()\n",
    "    set_raw_score(atoms, raw_score)\n",
    "\n",
    "relaxer = StructOptimizer()\n",
    "def relax(atoms):\n",
    "    # Relax our candidates using chgnet\n",
    "\n",
    "    result = relaxer.relax(atoms_to_structure(atoms), verbose=False)\n",
    "    result = relaxer.relax(result[\"final_structure\"], verbose=False)\n",
    "    relaxed_atoms = AseAtomsAdaptor.get_atoms(result[\"final_structure\"])\n",
    "    # Compare cosine similarity of the relaxed structures with ground truth\n",
    "    relaxed_atoms.info = atoms.info\n",
    "    \n",
    "    batch = get_batch(relaxed_atoms)\n",
    "    mu_x, log_x, z_x = model.encode(batch)\n",
    "    \n",
    "    input1 = torch.cat([mu_t,log_t],dim=1)\n",
    "    input2 = torch.cat((mu_x,log_x),dim=1)\n",
    "    cos_sim = F.cosine_similarity(input1[0], input2[0], dim=0, eps=1e-8)\n",
    "    \n",
    "    finalize(\n",
    "        relaxed_atoms,\n",
    "        energy = (float(cos_sim) + 1) ** 2,\n",
    "        forces = result[\"trajectory\"].forces[-1],\n",
    "        stress = result[\"trajectory\"].stresses[-1],\n",
    "    )  \n",
    "    return relaxed_atoms"
   ]
  },
  {
   "cell_type": "markdown",
   "id": "5c37e002-7454-45d2-84cc-3d6730ab3d60",
   "metadata": {
    "tags": []
   },
   "source": [
    "### Genetic algorithm"
   ]
  },
  {
   "cell_type": "code",
   "execution_count": 10,
   "id": "32b0d92f-8545-4581-8bd7-eb12369976d2",
   "metadata": {
    "tags": []
   },
   "outputs": [],
   "source": [
    "from ase import Atoms\n",
    "from ase.data import atomic_numbers\n",
    "from ase.ga.utilities import closest_distances_generator, CellBounds, get_all_atom_types\n",
    "from ase.ga.startgenerator import StartGenerator\n",
    "from ase.ga.data import PrepareDB, DataConnection\n",
    "from ase.io import write,cif\n",
    "from ase.ga import get_raw_score, set_raw_score\n",
    "from ase.ga.population import Population\n",
    "from ase.ga.ofp_comparator import OFPComparator\n",
    "from ase.ga.offspring_creator import OperationSelector\n",
    "from ase.ga.standardmutations import StrainMutation, RotationalMutation, RattleMutation, MirrorMutation\n",
    "from ase.ga.soft_mutation import SoftMutation\n",
    "from ase.ga.cutandsplicepairing import CutAndSplicePairing\n",
    "from pymatgen.symmetry.analyzer import SpacegroupAnalyzer\n",
    "from pymatgen.analysis.structure_matcher import StructureMatcher\n",
    "from pymatgen.core import Structure\n",
    "import io"
   ]
  },
  {
   "cell_type": "code",
   "execution_count": 2,
   "id": "2305ff52-8eb9-4c33-a8f9-784e61e8d589",
   "metadata": {},
   "outputs": [],
   "source": [
    "def run_ga(probability):\n",
    "    # Take mutation operators as variable and return highest cosine similarity\n",
    "    Path('/mnt/c/Users/Lenovo/Downloads/cdvae2/Ag.db').unlink()\n",
    "    # Number of random initial structures to generate\n",
    "    N = 20\n",
    "\n",
    "    # Target cell volume for the initial structures, in angstrom^3\n",
    "    volume = 162.46\n",
    "\n",
    "    natoms = 9\n",
    "    # We may also write:\n",
    "    blocks = ['Ag'] * natoms\n",
    "\n",
    "    # Define the composition of the atoms to optimize\n",
    "    Z = atomic_numbers['Ag']\n",
    "    blmin = closest_distances_generator(atom_numbers=[Z],\n",
    "                                        ratio_of_covalent_radii=0.5)\n",
    "\n",
    "    # Specify reasonable bounds on the minimal and maximal\n",
    "    # cell vector lengths (in angstrom) and angles (in degrees)\n",
    "    cellbounds = CellBounds(bounds={'phi': [25, 155], 'chi': [25, 155],\n",
    "                                    'psi': [25, 155], 'a': [3, 50],\n",
    "                                    'b': [3, 50], 'c': [3, 50]})\n",
    "\n",
    "    # Choose an (optional) 'cell splitting' scheme which basically controls the level of translational symmetry (within the unit cell) of the randomly generated structures. \n",
    "    # Here a 1:1 ratio of splitting factors 2 and 1 is used:\n",
    "    splits = {(2,): 1, (1,): 1}\n",
    "    # There will hence be a 50% probability that a can didateis constructed by repeating an randomly generated Ag12 structure along a randomly chosen axis. \n",
    "    # In the other 50% of cases, no cell cell splitting will be applied.\n",
    "\n",
    "    # The 'slab' object: a template in the creation of new structures, which inherit the slab's atomic positions (if any), \n",
    "    # cell vectors (if specified), and periodic boundary conditions.\n",
    "    # Here only the last property is relevant:\n",
    "    slab = Atoms('', pbc=True)\n",
    "\n",
    "    # Initialize the random structure generator\n",
    "    sg = StartGenerator(slab, blocks, blmin, box_volume=volume,\n",
    "                        number_of_variable_cell_vectors=3,\n",
    "                        splits=splits, cellbounds=cellbounds)\n",
    "\n",
    "    # Create the database\n",
    "    da = PrepareDB(db_file_name='Ag.db',\n",
    "                   stoichiometry=[Z] * natoms)\n",
    "\n",
    "    # Generate N random structures and add them to the database\n",
    "    for i in range(N):\n",
    "        a = sg.get_new_candidate()\n",
    "        da.add_unrelaxed_candidate(a)\n",
    "    \n",
    "    # Connect to the database and retrieve some information\n",
    "    da = DataConnection('Ag.db')\n",
    "    slab = da.get_slab()\n",
    "    atom_numbers_to_optimize = da.get_atom_numbers_to_optimize()\n",
    "    n_top = len(atom_numbers_to_optimize)\n",
    "\n",
    "    # Use Oganov's fingerprint functions to decide whether\n",
    "    # two structures are identical or not\n",
    "    comp = OFPComparator(n_top=n_top, dE=1.0, cos_dist_max=1e-3, rcut=10.,\n",
    "                         binwidth=0.05, pbc=[True, True, True],\n",
    "                         sigma=0.05, nsigma=4, recalculate=False)\n",
    "\n",
    "    # Define the cell and interatomic distance bounds\n",
    "    # that the candidates must obey\n",
    "    blmin = closest_distances_generator(atom_numbers_to_optimize, 0.5)\n",
    "\n",
    "    # Define a pairing operator with 100% (0%) chance that the first\n",
    "    # (second) parent will be randomly translated, and with each parent\n",
    "    # contributing to at least 15% of the child's scaled coordinates\n",
    "    pairing = CutAndSplicePairing(slab, n_top, blmin, p1=1., p2=0., minfrac=0.15,\n",
    "                                  number_of_variable_cell_vectors=3,\n",
    "                                  cellbounds=cellbounds, use_tags=False)\n",
    "\n",
    "    # Define a strain mutation with a typical standard deviation of 0.7\n",
    "    # for the strain matrix elements (drawn from a normal distribution)\n",
    "    strainmut = StrainMutation(blmin, stddev=0.7, cellbounds=cellbounds,\n",
    "                               number_of_variable_cell_vectors=3,\n",
    "                               use_tags=False)\n",
    "\n",
    "    # Define a soft mutation\n",
    "    blmin_soft = closest_distances_generator(atom_numbers_to_optimize, 0.1)\n",
    "    softmut = SoftMutation(blmin_soft, bounds=[2, 5.], use_tags=False)\n",
    "\n",
    "    # By default, the operator will update a \"used_modes.json\" file\n",
    "    # after every mutation, listing which modes have been used so far\n",
    "    # for each structure in the database. The mode indices start at 3\n",
    "    # as the three lowest frequency modes are translational modes.\n",
    "\n",
    "    # Set up the relative probabilities for the different operators\n",
    "    \n",
    "    operators = OperationSelector(probability,[pairing, strainmut, softmut, MirrorMutation(blmin, n_top),])\n",
    "\n",
    "    # Relax the initial candidates\n",
    "    while da.get_number_of_unrelaxed_candidates() > 0:\n",
    "        a = da.get_an_unrelaxed_candidate()\n",
    "    \n",
    "        a = relax(a)\n",
    "        a = relax(a)\n",
    "        da.add_relaxed_step(a)\n",
    "\n",
    "        cell = a.get_cell()\n",
    "        if not cellbounds.is_within_bounds(cell):\n",
    "            da.kill_candidate(a.info['confid'])\n",
    "\n",
    "    # Initialize the population\n",
    "    population_size = 20\n",
    "    population = Population(data_connection=da,\n",
    "                            population_size=population_size,\n",
    "                            comparator=comp,\n",
    "                            use_extinct=True)\n",
    "\n",
    "    # Update the scaling volume used in some operators\n",
    "    # based on a number of the best candidates\n",
    "    current_pop = population.get_current_population()\n",
    "    strainmut.update_scaling_volume(current_pop, w_adapt=0.5, n_adapt=4)\n",
    "    pairing.update_scaling_volume(current_pop, w_adapt=0.5, n_adapt=4)\n",
    "    \n",
    "    # Test n_to_test new candidates\n",
    "    n_to_test = 20\n",
    "\n",
    "    for step in range(n_to_test):\n",
    "    \n",
    "        # Create a new candidate\n",
    "        a3 = None\n",
    "        while a3 is None:\n",
    "            a1, a2 = population.get_two_candidates()\n",
    "            a3, desc = operators.get_new_individual([a1, a2])\n",
    "\n",
    "        # Save the unrelaxed candidate\n",
    "        da.add_unrelaxed_candidate(a3, description=desc)\n",
    "\n",
    "        # Relax the new candidate and save it\n",
    "        a3 = relax(a3)\n",
    "        a3 = relax(a3)\n",
    "        da.add_relaxed_step(a3)\n",
    "\n",
    "        # If the relaxation has changed the cell parameters\n",
    "        # beyond the bounds we disregard it in the population\n",
    "        cell = a3.get_cell()\n",
    "        if not cellbounds.is_within_bounds(cell):\n",
    "            da.kill_candidate(a3.info['confid'])\n",
    "\n",
    "        # Update the population\n",
    "        population.update()\n",
    "\n",
    "        if step % 10 == 0:\n",
    "            # Update the scaling volumes of the strain mutation\n",
    "            # and the pairing operator based on the current\n",
    "            # best structures contained in the population\n",
    "            current_pop = population.get_current_population()\n",
    "            strainmut.update_scaling_volume(current_pop, w_adapt=0.5, n_adapt=4)\n",
    "            pairing.update_scaling_volume(current_pop, w_adapt=0.5, n_adapt=4)\n",
    "            write('current_population.traj', current_pop)\n",
    "    \n",
    "    hiscore = np.sqrt(get_raw_score(current_pop[0])) - 1\n",
    "    print('Highest raw score = %8.4f' % hiscore)\n",
    "    \n",
    "    is_match(current_pop[0])\n",
    "    \n",
    "    return hiscore"
   ]
  },
  {
   "cell_type": "code",
   "execution_count": 12,
   "id": "c88c2aea-6b37-4fa3-9e37-93a13dc59bf1",
   "metadata": {},
   "outputs": [
    {
     "name": "stdout",
     "output_type": "stream",
     "text": [
      "[3.0, 4.0, 1.0, 2.0]\n",
      "Highest raw score =   0.9808\n",
      "Highest raw score =   0.9806\n",
      "Highest raw score =   0.9828\n",
      "Highest raw score =   0.9810\n",
      "Highest raw score =   0.9811\n",
      "[0.9808115363121033, 0.9805940985679626, 0.982781708240509, 0.9810068607330322, 0.9810959100723267]\n",
      "[3.0, 3.0, 1.0, 3.0]\n",
      "Highest raw score =   0.9852\n",
      "Highest raw score =   0.9851\n",
      "Highest raw score =   0.9807\n",
      "Highest raw score =   0.9797\n",
      "Highest raw score =   0.9825\n",
      "[0.9851791858673096, 0.9850552082061768, 0.9806743860244751, 0.9796713590621948, 0.982513964176178]\n",
      "[4.0, 3.0, 3.0, 0.0]\n",
      "Highest raw score =   0.9833\n",
      "Highest raw score =   0.9814\n",
      "Highest raw score =   0.9830\n",
      "Highest raw score =   0.9789\n",
      "Highest raw score =   0.9833\n",
      "[0.9833438992500305, 0.9813639521598816, 0.9830278158187866, 0.978891909122467, 0.9832966327667236]\n"
     ]
    }
   ],
   "source": [
    "list_of_probability = [[3., 4., 1., 2.], [3., 3., 1., 3.], [4., 3., 3., 0.]]\n",
    "all_raw_scores = []\n",
    "for probability in list_of_probability:\n",
    "    print(probability)\n",
    "    operator_raw_scores = []\n",
    "    while len(operator_raw_scores) < 5:\n",
    "        try:\n",
    "            raw_score = run_ga(probability)\n",
    "            operator_raw_scores.append(raw_score)\n",
    "        except:\n",
    "            pass\n",
    "    print(operator_raw_scores)\n",
    "    all_raw_scores.append(operator_raw_scores)"
   ]
  },
  {
   "cell_type": "code",
   "execution_count": 13,
   "id": "5cd61b6a-b3b6-409f-b1e0-11ea91894a64",
   "metadata": {},
   "outputs": [
    {
     "name": "stdout",
     "output_type": "stream",
     "text": [
      "0.9819848418235779 0.0017092316396371003\n"
     ]
    }
   ],
   "source": [
    "print(np.mean(all_raw_scores[2]), np.std(all_raw_scores[2]))"
   ]
  },
  {
   "cell_type": "code",
   "execution_count": 1,
   "id": "e4c387b7-5de4-4f8e-b1df-a9da8879fb7a",
   "metadata": {
    "tags": []
   },
   "outputs": [],
   "source": [
    "from pymatgen.symmetry.analyzer import SpacegroupAnalyzer\n",
    "from pymatgen.analysis.structure_matcher import StructureMatcher\n",
    "from pymatgen.io.ase import AseAtomsAdaptor\n",
    "from pymatgen.core import Structure\n",
    "\n",
    "def is_match(atoms, symprec=0.001):\n",
    "    s = AseAtomsAdaptor.get_structure(atoms)\n",
    "    sga = SpacegroupAnalyzer(s, symprec=symprec)\n",
    "    ps = sga.get_conventional_standard_structure()\n",
    "\n",
    "    sm = StructureMatcher(scale=False, primitive_cell=False)\n",
    "    print(sm.fit(ag_structure, ps), sm.get_rms_dist(ag_structure, ps))"
   ]
  },
  {
   "cell_type": "code",
   "execution_count": 16,
   "id": "fb56516d-4710-4fca-95d9-496282047fa7",
   "metadata": {
    "tags": []
   },
   "outputs": [
    {
     "data": {
      "text/plain": [
       "Structure Summary\n",
       "Lattice\n",
       "    abc : 2.9378535333410376 2.93902641215515 4.202189888102476\n",
       " angles : 90.0 90.0 90.0\n",
       " volume : 36.28351077765953\n",
       "      A : 2.9378535333410376 0.0 1.798916462984922e-16\n",
       "      B : 4.726314941384558e-16 2.93902641215515 1.799634644127667e-16\n",
       "      C : 0.0 0.0 4.202189888102476\n",
       "    pbc : True True True\n",
       "PeriodicSite: Ag (0.0000, 2.1743, 2.1011) [0.0000, 0.7398, 0.5000]\n",
       "PeriodicSite: Ag (1.4689, 0.7648, 0.0000) [0.5000, 0.2602, 0.0000]"
      ]
     },
     "execution_count": 16,
     "metadata": {},
     "output_type": "execute_result"
    }
   ],
   "source": [
    "ps"
   ]
  },
  {
   "cell_type": "code",
   "execution_count": 17,
   "id": "3c80b84d-aee4-42d2-aff2-df50a907a576",
   "metadata": {},
   "outputs": [
    {
     "data": {
      "text/plain": [
       "Structure Summary\n",
       "Lattice\n",
       "    abc : 4.10435636 4.10435636 4.10435636\n",
       " angles : 90.0 90.0 90.0\n",
       " volume : 69.14092474530555\n",
       "      A : 4.10435636 0.0 2.513193439417041e-16\n",
       "      B : 6.600308424860354e-16 4.10435636 2.513193439417041e-16\n",
       "      C : 0.0 0.0 4.10435636\n",
       "    pbc : True True True\n",
       "PeriodicSite: Ag (0.0000, 0.0000, 0.0000) [0.0000, 0.0000, 0.0000]\n",
       "PeriodicSite: Ag (2.0522, 2.0522, 0.0000) [0.5000, 0.5000, 0.0000]\n",
       "PeriodicSite: Ag (2.0522, 0.0000, 2.0522) [0.5000, 0.0000, 0.5000]\n",
       "PeriodicSite: Ag (0.0000, 2.0522, 2.0522) [0.0000, 0.5000, 0.5000]"
      ]
     },
     "execution_count": 17,
     "metadata": {},
     "output_type": "execute_result"
    }
   ],
   "source": [
    "ag_structure"
   ]
  },
  {
   "cell_type": "code",
   "execution_count": null,
   "id": "1766f8c9-858d-4886-8156-9d95f28bf7b0",
   "metadata": {},
   "outputs": [],
   "source": []
  }
 ],
 "metadata": {
  "kernelspec": {
   "display_name": "cdvae",
   "language": "python",
   "name": "cdvae"
  },
  "language_info": {
   "codemirror_mode": {
    "name": "ipython",
    "version": 3
   },
   "file_extension": ".py",
   "mimetype": "text/x-python",
   "name": "python",
   "nbconvert_exporter": "python",
   "pygments_lexer": "ipython3",
   "version": "3.8.16"
  }
 },
 "nbformat": 4,
 "nbformat_minor": 5
}
