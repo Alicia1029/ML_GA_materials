{
 "cells": [
  {
   "cell_type": "code",
   "execution_count": 1,
   "id": "c6917c5f-c709-4f7f-a51c-87cf5dd8c45b",
   "metadata": {
    "tags": []
   },
   "outputs": [],
   "source": [
    "from hydra.experimental import compose\n",
    "from hydra import initialize_config_dir\n",
    "import hydra\n",
    "from pathlib import Path\n",
    "import numpy as np\n",
    "import pandas as pd\n",
    "import torch\n",
    "from torch.nn import functional as F\n",
    "import cdvae\n",
    "import os"
   ]
  },
  {
   "cell_type": "markdown",
   "id": "2036d1f5-c989-422b-a5ce-ef04cb3ac16a",
   "metadata": {
    "tags": []
   },
   "source": [
    "#### Load cdvae model for mp_20"
   ]
  },
  {
   "cell_type": "code",
   "execution_count": 2,
   "id": "12bb711c-7352-4a1b-a992-e9c1cfb13fd1",
   "metadata": {
    "tags": []
   },
   "outputs": [],
   "source": [
    "os.environ[\"PROJECT_ROOT\"] = \"/mnt/c/Users/Lenovo/Downloads/cdvae2\"\n",
    "os.environ[\"HYDRA_JOBS\"] = \"/mnt/c/Users/Lenovo/Downloads/cdvae2\"\n",
    "os.environ[\"WABDB_DIR\"] = \"/mnt/c/Users/Lenovo/Downloads/cdvae2\""
   ]
  },
  {
   "cell_type": "code",
   "execution_count": 3,
   "id": "18c85bb2-e162-4f1b-bf01-a89a73100290",
   "metadata": {
    "tags": []
   },
   "outputs": [],
   "source": [
    "model_path = Path(\"/mnt/c/Users/Lenovo/Downloads/cdvae2/singlerun/2023-05-19/mp_20\")\n",
    "\n",
    "with initialize_config_dir(str(model_path)):\n",
    "    ckpts = list(model_path.glob('epoch*.ckpt'))\n",
    "    if len(ckpts) > 0:\n",
    "        ckpt_epochs = np.array(\n",
    "            [int(ckpt.parts[-1].split('-')[0].split('=')[1]) for ckpt in ckpts])\n",
    "        ckpt = str(ckpts[ckpt_epochs.argsort()[-1]])\n",
    "        \n",
    "checkpoint = torch.load(ckpt, map_location=torch.device('cpu'))\n",
    "\n",
    "gemnet_path = Path(cdvae.__file__).parent / \"pl_modules/gemnet/gemnet-dT.json\"\n",
    "checkpoint[\"hyper_parameters\"][\"decoder\"][\"scale_file\"] = str(gemnet_path)\n",
    "ckpt = model_path / \"checkpoint_edit.ckpt\"\n",
    "torch.save(checkpoint, model_path / \"checkpoint_edit.ckpt\")"
   ]
  },
  {
   "cell_type": "code",
   "execution_count": 4,
   "id": "7973cebd-cb0c-4d4e-8781-a3d1e36ee74c",
   "metadata": {
    "tags": []
   },
   "outputs": [
    {
     "name": "stderr",
     "output_type": "stream",
     "text": [
      "/home/fhj/anaconda3/envs/cdvae/lib/python3.8/site-packages/hydra/experimental/compose.py:16: UserWarning: hydra.experimental.compose() is no longer experimental. Use hydra.compose()\n",
      "  warnings.warn(\n"
     ]
    }
   ],
   "source": [
    "with initialize_config_dir(str(model_path)):\n",
    "    # load config\n",
    "    cfg = compose(config_name='hparams')\n",
    "    \n",
    "    # load model\n",
    "    model = hydra.utils.instantiate(\n",
    "        cfg.model,\n",
    "        optim=cfg.optim,\n",
    "        data=cfg.data,\n",
    "        logging=cfg.logging,\n",
    "        _recursive_=False,\n",
    "    )\n",
    "    \n",
    "    model = model.load_from_checkpoint(ckpt)\n",
    "    model.lattice_scaler = torch.load(model_path / 'lattice_scaler.pt')\n",
    "    model.scaler = torch.load(model_path / 'prop_scaler.pt')"
   ]
  },
  {
   "cell_type": "markdown",
   "id": "b6953d50-13d3-4a25-b26a-000ed4ffe8e4",
   "metadata": {},
   "source": [
    "#### Define functions to get a batch from an atom object\n",
    "\n",
    "First load lattice and property scalers"
   ]
  },
  {
   "cell_type": "code",
   "execution_count": 5,
   "id": "18e2be8d-25c6-4122-bafc-72eebb5541ab",
   "metadata": {
    "tags": []
   },
   "outputs": [],
   "source": [
    "lattice_scaler = model.lattice_scaler\n",
    "scaler = model.scaler"
   ]
  },
  {
   "cell_type": "markdown",
   "id": "3158faaa-d02c-401a-bb53-80b2d1db414f",
   "metadata": {},
   "source": [
    "Now define function that takes in an atom object and returns the batch"
   ]
  },
  {
   "cell_type": "code",
   "execution_count": 15,
   "id": "0cb6716e-1e29-4ac4-8796-57bce85784dc",
   "metadata": {},
   "outputs": [],
   "source": [
    "from cdvae.common.data_utils import build_crystal, add_scaled_lattice_prop\n",
    "from torch_geometric.data import Data, Batch\n",
    "from pymatgen.io.ase import AseAtomsAdaptor\n",
    "from pymatgen.core import Lattice, Structure\n",
    "from pymatgen.analysis.graphs import StructureGraph\n",
    "from pymatgen.analysis import local_env\n",
    "\n",
    "CrystalNN = local_env.CrystalNN(\n",
    "    distance_cutoffs=None, x_diff_weight=-1, porous_adjustment=False)\n",
    "\n",
    "def atoms_to_structure(atoms):\n",
    "    lattice = Lattice(atoms.cell)\n",
    "    # lattice = Lattice.from_parameters(*atoms.cell.cellpar())\n",
    "    symbols = atoms.get_chemical_symbols()\n",
    "    positions = atoms.get_positions()\n",
    "    return Structure(lattice, symbols, positions, coords_are_cartesian=True)\n",
    "\n",
    "def build_crystal_graph(crystal, graph_method='crystalnn'):\n",
    "    \"\"\"\n",
    "    \"\"\"\n",
    "\n",
    "    if graph_method == 'crystalnn':\n",
    "        crystal_graph = StructureGraph.with_local_env_strategy(\n",
    "            crystal, CrystalNN)\n",
    "    elif graph_method == 'none':\n",
    "        pass\n",
    "    else:\n",
    "        raise NotImplementedError\n",
    "\n",
    "    frac_coords = crystal.frac_coords\n",
    "    atom_types = crystal.atomic_numbers\n",
    "    lattice_parameters = crystal.lattice.parameters\n",
    "    lengths = lattice_parameters[:3]\n",
    "    angles = lattice_parameters[3:]\n",
    "\n",
    "    edge_indices, to_jimages = [], []\n",
    "    if graph_method != 'none':\n",
    "        for i, j, to_jimage in crystal_graph.graph.edges(data='to_jimage'):\n",
    "            edge_indices.append([j, i])\n",
    "            to_jimages.append(to_jimage)\n",
    "            edge_indices.append([i, j])\n",
    "            to_jimages.append(tuple(-tj for tj in to_jimage))\n",
    "\n",
    "    atom_types = np.array(atom_types)\n",
    "    lengths, angles = np.array(lengths), np.array(angles)\n",
    "    edge_indices = np.array(edge_indices)\n",
    "    to_jimages = np.array(to_jimages)\n",
    "    num_atoms = atom_types.shape[0]\n",
    "\n",
    "    return frac_coords, atom_types, lengths, angles, edge_indices, to_jimages, num_atoms\n",
    "\n",
    "def process_one(atoms, graph_method=\"crystalnn\", formation_energy_per_atom=0, material_id=0):\n",
    "    crystal = atoms_to_structure(atoms)\n",
    "    graph_arrays = build_crystal_graph(crystal, graph_method)\n",
    "    return {\n",
    "        'mp_id': material_id,\n",
    "        'cif': crystal.to(fmt=\"cif\"),\n",
    "        'graph_arrays': graph_arrays,\n",
    "        \"formation_energy_per_atom\": formation_energy_per_atom,\n",
    "    }\n",
    "\n",
    "def get_batch(atoms, **process_kwargs):\n",
    "    d = [process_one(atoms, **process_kwargs)]\n",
    "    add_scaled_lattice_prop(d, \"scale_length\")\n",
    "    (frac_coords, atom_types, lengths, angles, edge_indices,\n",
    "     to_jimages, num_atoms) = d[0]['graph_arrays']\n",
    "\n",
    "    prop = scaler.transform(d[0][\"formation_energy_per_atom\"])\n",
    "    data = Data(\n",
    "        frac_coords=torch.Tensor(frac_coords),\n",
    "        atom_types=torch.LongTensor(atom_types),\n",
    "        lengths=torch.Tensor(lengths).view(1, -1),\n",
    "        angles=torch.Tensor(angles).view(1, -1),\n",
    "        edge_index=torch.LongTensor(\n",
    "            edge_indices.T).contiguous(),  # shape (2, num_edges)\n",
    "        to_jimages=torch.LongTensor(to_jimages),\n",
    "        num_atoms=num_atoms,\n",
    "        num_bonds=edge_indices.shape[0],\n",
    "        num_nodes=num_atoms,  # special attribute used for batching in pytorch geometric\n",
    "        y=prop.view(1, -1),\n",
    "    )\n",
    "\n",
    "    return Batch.from_data_list([data])"
   ]
  },
  {
   "cell_type": "markdown",
   "id": "d2360fdc-6396-4981-9b66-e48022aa2338",
   "metadata": {},
   "source": [
    "#### Ground truth latent space of Ag \n",
    "- Examing the cosine similarity has the ability of distinguish the different Ag structures encoded by CDVAE in latent space"
   ]
  },
  {
   "cell_type": "code",
   "execution_count": 7,
   "id": "75162bda-df88-466a-9476-a8ee49b734dc",
   "metadata": {},
   "outputs": [],
   "source": [
    "from pymatgen.core import Structure, Lattice\n",
    "from pymatgen.io.cif import CifFile"
   ]
  },
  {
   "cell_type": "code",
   "execution_count": 8,
   "id": "56efbda2-515b-4e4b-8597-b65455788177",
   "metadata": {},
   "outputs": [],
   "source": [
    "# Reference structure of Ag from Materials Project, id=mp-124\n",
    "ag_cif = \"# generated using pymatgen\\ndata_Ag\\n_symmetry_space_group_name_H-M   'P 1'\\n_cell_length_a   4.10435636\\n_cell_length_b   4.10435636\\n_cell_length_c   4.10435636\\n_cell_angle_alpha   90.00000000\\n_cell_angle_beta   90.00000000\\n_cell_angle_gamma   90.00000000\\n_symmetry_Int_Tables_number   1\\n_chemical_formula_structural   Ag\\n_chemical_formula_sum   Ag4\\n_cell_volume   69.14092475\\n_cell_formula_units_Z   4\\nloop_\\n _symmetry_equiv_pos_site_id\\n _symmetry_equiv_pos_as_xyz\\n  1  'x, y, z'\\nloop_\\n _atom_site_type_symbol\\n _atom_site_label\\n _atom_site_symmetry_multiplicity\\n _atom_site_fract_x\\n _atom_site_fract_y\\n _atom_site_fract_z\\n _atom_site_occupancy\\n  Ag  Ag0  1  0.00000000  0.00000000  0.00000000  1.0\\n  Ag  Ag1  1  0.50000000  0.50000000  0.00000000  1.0\\n  Ag  Ag2  1  0.50000000  0.00000000  0.50000000  1.0\\n  Ag  Ag3  1  0.00000000  0.50000000  0.50000000  1.0\\n\"\n",
    "ag_structure = Structure.from_str(ag_cif, fmt=\"cif\")\n",
    "ag_atoms = AseAtomsAdaptor.get_atoms(ag_structure)"
   ]
  },
  {
   "cell_type": "code",
   "execution_count": 9,
   "id": "74e6c45e-1385-49f0-98d0-87dd245c19db",
   "metadata": {},
   "outputs": [
    {
     "name": "stderr",
     "output_type": "stream",
     "text": [
      "/home/fhj/anaconda3/envs/cdvae/lib/python3.8/site-packages/pymatgen/io/cif.py:1134: UserWarning: Issues encountered while parsing CIF: Some fractional coordinates rounded to ideal values to avoid issues with finite precision.\n",
      "  warnings.warn(\"Issues encountered while parsing CIF: \" + \"\\n\".join(self.warnings))\n"
     ]
    }
   ],
   "source": [
    "# Reference structure of Ag from Materials Project, id=mp-8566\n",
    "ag_structure1 = Structure.from_file(\"/mnt/c/Users/Lenovo/Downloads/cdvae2/structures_GA/ag_cif/Ag_8566.cif\")\n",
    "ag_atoms1 = AseAtomsAdaptor.get_atoms(ag_structure1)\n",
    "# Reference structure of Ag from Materials Project, id=mp-10597\n",
    "ag_structure2 = Structure.from_file(\"/mnt/c/Users/Lenovo/Downloads/cdvae2/structures_GA/ag_cif/Ag_10597.cif\")\n",
    "ag_atoms2 = AseAtomsAdaptor.get_atoms(ag_structure2)\n",
    "# Reference structure of Ag from Materials Project, id=mp-989737\n",
    "ag_structure3 = Structure.from_file(\"/mnt/c/Users/Lenovo/Downloads/cdvae2/structures_GA/ag_cif/Ag_989737.cif\")\n",
    "ag_atoms3 = AseAtomsAdaptor.get_atoms(ag_structure3)\n",
    "# Reference structure of Ag from Materials Project, id=mp-2646971\n",
    "ag_structure4 = Structure.from_file(\"/mnt/c/Users/Lenovo/Downloads/cdvae2/structures_GA/ag_cif/Ag_2646971.cif\")\n",
    "ag_atoms4 = AseAtomsAdaptor.get_atoms(ag_structure4)"
   ]
  },
  {
   "cell_type": "code",
   "execution_count": 10,
   "id": "c5bed1bd-1817-4177-bc57-b871d528f1b9",
   "metadata": {},
   "outputs": [
    {
     "name": "stdout",
     "output_type": "stream",
     "text": [
      "0.9385689496994019\n"
     ]
    }
   ],
   "source": [
    "# Modify the atom objects to test the cosine similarity\n",
    "\n",
    "batch = get_batch(ag_atoms)\n",
    "batch1 = get_batch(ag_atoms1)\n",
    "mu_t, log_t, z_t = model.encode(batch)\n",
    "mu_x, log_x, z_x = model.encode(batch1)\n",
    "    \n",
    "input1 = torch.cat([mu_t,log_t],dim=1)\n",
    "input2 = torch.cat([mu_x,log_x],dim=1)\n",
    "cos_sim = F.cosine_similarity(input1[0], input2[0], dim=0, eps=1e-8)\n",
    "print(float(cos_sim))"
   ]
  },
  {
   "cell_type": "code",
   "execution_count": 11,
   "id": "ca0817dd-2b4f-4231-9ee3-240865c59d37",
   "metadata": {},
   "outputs": [
    {
     "name": "stdout",
     "output_type": "stream",
     "text": [
      "mp-124 mp-8566 mp-10597 mp-989737 mp-2646971\n",
      "[[1.     0.9386 0.9625 0.924  0.9648]\n",
      " [0.9386 1.     0.9312 0.9563 0.9182]\n",
      " [0.9625 0.9312 1.     0.916  0.9733]\n",
      " [0.924  0.9563 0.916  1.     0.9281]\n",
      " [0.9648 0.9182 0.9733 0.9281 1.    ]]\n"
     ]
    }
   ],
   "source": [
    "print(\"mp-124\",\"mp-8566\",\"mp-10597\",\"mp-989737\",\"mp-2646971\")\n",
    "cosine_similarity = np.array([[1, 0.9386,0.9625,0.9240,0.9648],\n",
    "                             [0.9386,1,0.9312,0.9563,0.9182],\n",
    "                             [0.9625,0.9312,1,0.916,0.9733],\n",
    "                             [0.924,0.9563,0.916,1,0.9281],\n",
    "                             [0.9648,0.9182,0.9733,0.9281,1]])\n",
    "print(cosine_similarity)"
   ]
  },
  {
   "cell_type": "markdown",
   "id": "8046414a-1c26-4504-876c-8b228e442dd3",
   "metadata": {},
   "source": [
    "- Examing if relax the different Ag structures by CHGNEet, the relaxed structure are the same (not fall into global minimum), and test the potential energy per atom of CHGNet."
   ]
  },
  {
   "cell_type": "code",
   "execution_count": 16,
   "id": "9610f267-ae55-4ea0-964d-e17e48b7eeda",
   "metadata": {},
   "outputs": [
    {
     "data": {
      "text/plain": [
       "-11.166425704956055"
      ]
     },
     "execution_count": 16,
     "metadata": {},
     "output_type": "execute_result"
    }
   ],
   "source": [
    "relaxed = relax(ag_atoms1)\n",
    "relaxed.get_potential_energy()"
   ]
  },
  {
   "cell_type": "code",
   "execution_count": 17,
   "id": "7f1015ca-3783-44e1-b764-0ed2982ac0f9",
   "metadata": {},
   "outputs": [
    {
     "name": "stdout",
     "output_type": "stream",
     "text": [
      "True\n",
      "(2.8290529173298537e-16, 4.267852349240298e-16)\n"
     ]
    }
   ],
   "source": [
    "from pymatgen.symmetry.analyzer import SpacegroupAnalyzer\n",
    "from pymatgen.analysis.structure_matcher import StructureMatcher\n",
    "from pymatgen.core import Structure\n",
    "\n",
    "s = atoms_to_structure(relaxed)\n",
    "sga = SpacegroupAnalyzer(s, symprec=0.001)\n",
    "ps = sga.get_conventional_standard_structure()\n",
    "\n",
    "sm = StructureMatcher(scale=False, primitive_cell=False)\n",
    "print(sm.fit(ag_structure1, ps))\n",
    "print(sm.get_rms_dist(ag_structure1, ps))"
   ]
  },
  {
   "cell_type": "markdown",
   "id": "ef4ee656-9ccb-40c3-a28a-0d1b80445c2a",
   "metadata": {},
   "source": [
    "#### Relax function"
   ]
  },
  {
   "cell_type": "code",
   "execution_count": 13,
   "id": "fddd95f4-3fe8-4a4b-8fc3-4b8474c00424",
   "metadata": {
    "tags": []
   },
   "outputs": [],
   "source": [
    "from ase.calculators.singlepoint import SinglePointCalculator\n",
    "from ase.ga import set_raw_score\n",
    "\n",
    "def finalize(atoms, energy=None, forces=None, stress=None):\n",
    "    # Finalizes the atoms by attaching a SinglePointCalculator\n",
    "    # and setting the raw score as the negative of the total energy\n",
    "    atoms.wrap()\n",
    "    calc = SinglePointCalculator(atoms, energy=energy, forces=forces,\n",
    "                                 stress=stress)\n",
    "    atoms.calc = calc\n",
    "    raw_score = atoms.get_potential_energy()\n",
    "    set_raw_score(atoms, raw_score)"
   ]
  },
  {
   "cell_type": "code",
   "execution_count": 12,
   "id": "0e7a097c-9312-4007-9979-81056edc7e7f",
   "metadata": {},
   "outputs": [
    {
     "name": "stdout",
     "output_type": "stream",
     "text": [
      "CHGNet initialized with 400,438 parameters\n",
      "CHGNet will run on cpu\n"
     ]
    }
   ],
   "source": [
    "import ase\n",
    "from chgnet.model import StructOptimizer\n",
    "\n",
    "relaxer = StructOptimizer()\n",
    "\n",
    "def relax(atoms):\n",
    "    # Relax our candidates using chgnet\n",
    "\n",
    "    result = relaxer.relax(atoms_to_structure(atoms), verbose=False)\n",
    "    relaxed_atoms = AseAtomsAdaptor.get_atoms(result[\"final_structure\"])\n",
    "    # Compare cosine similarity of the relaxed structures with ground truth\n",
    "    relaxed_atoms.info = atoms.info\n",
    "    \n",
    "    batch = get_batch(relaxed_atoms)\n",
    "    mu_x, log_x, z_x = model.encode(batch)\n",
    "    \n",
    "    input1 = torch.cat([mu_t,log_t],dim=1)\n",
    "    input2 = torch.cat((mu_x,log_x),dim=1)\n",
    "    cos_sim = F.cosine_similarity(input1[0], input2[0], dim=0, eps=1e-8)\n",
    "    \n",
    "    finalize(\n",
    "        relaxed_atoms,\n",
    "        energy = result[\"trajectory\"].energies[-1],\n",
    "        forces = result[\"trajectory\"].forces[-1],\n",
    "        stress = result[\"trajectory\"].stresses[-1],\n",
    "    )  \n",
    "    return relaxed_atoms"
   ]
  },
  {
   "cell_type": "code",
   "execution_count": null,
   "id": "f28f8ab9-9c86-4108-8eed-8ff3f714af6f",
   "metadata": {},
   "outputs": [],
   "source": []
  }
 ],
 "metadata": {
  "kernelspec": {
   "display_name": "cdvae",
   "language": "python",
   "name": "cdvae"
  },
  "language_info": {
   "codemirror_mode": {
    "name": "ipython",
    "version": 3
   },
   "file_extension": ".py",
   "mimetype": "text/x-python",
   "name": "python",
   "nbconvert_exporter": "python",
   "pygments_lexer": "ipython3",
   "version": "3.8.16"
  }
 },
 "nbformat": 4,
 "nbformat_minor": 5
}
