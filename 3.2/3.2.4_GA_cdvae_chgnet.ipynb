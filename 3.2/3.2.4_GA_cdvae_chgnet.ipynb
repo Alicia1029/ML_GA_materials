{
 "cells": [
  {
   "cell_type": "code",
   "execution_count": 1,
   "id": "c6917c5f-c709-4f7f-a51c-87cf5dd8c45b",
   "metadata": {
    "tags": []
   },
   "outputs": [],
   "source": [
    "from hydra.experimental import compose\n",
    "from hydra import initialize_config_dir\n",
    "import hydra\n",
    "from pathlib import Path\n",
    "import numpy as np\n",
    "import pandas as pd\n",
    "import torch\n",
    "from torch.nn import functional as F\n",
    "import cdvae\n",
    "import os"
   ]
  },
  {
   "cell_type": "markdown",
   "id": "2036d1f5-c989-422b-a5ce-ef04cb3ac16a",
   "metadata": {
    "tags": []
   },
   "source": [
    "#### Load cdvae model for mp_20"
   ]
  },
  {
   "cell_type": "code",
   "execution_count": 2,
   "id": "12bb711c-7352-4a1b-a992-e9c1cfb13fd1",
   "metadata": {
    "tags": []
   },
   "outputs": [],
   "source": [
    "os.environ[\"PROJECT_ROOT\"] = \"/mnt/c/Users/Lenovo/Downloads/cdvae2\"\n",
    "os.environ[\"HYDRA_JOBS\"] = \"/mnt/c/Users/Lenovo/Downloads/cdvae2\"\n",
    "os.environ[\"WABDB_DIR\"] = \"/mnt/c/Users/Lenovo/Downloads/cdvae2\""
   ]
  },
  {
   "cell_type": "code",
   "execution_count": 3,
   "id": "18c85bb2-e162-4f1b-bf01-a89a73100290",
   "metadata": {
    "tags": []
   },
   "outputs": [],
   "source": [
    "model_path = Path(\"/mnt/c/Users/Lenovo/Downloads/cdvae2/singlerun/2023-05-19/mp_20\")\n",
    "\n",
    "with initialize_config_dir(str(model_path)):\n",
    "    ckpts = list(model_path.glob('epoch*.ckpt'))\n",
    "    if len(ckpts) > 0:\n",
    "        ckpt_epochs = np.array(\n",
    "            [int(ckpt.parts[-1].split('-')[0].split('=')[1]) for ckpt in ckpts])\n",
    "        ckpt = str(ckpts[ckpt_epochs.argsort()[-1]])\n",
    "        \n",
    "checkpoint = torch.load(ckpt, map_location=torch.device('cpu'))\n",
    "\n",
    "gemnet_path = Path(cdvae.__file__).parent / \"pl_modules/gemnet/gemnet-dT.json\"\n",
    "checkpoint[\"hyper_parameters\"][\"decoder\"][\"scale_file\"] = str(gemnet_path)\n",
    "ckpt = model_path / \"checkpoint_edit.ckpt\"\n",
    "torch.save(checkpoint, model_path / \"checkpoint_edit.ckpt\")"
   ]
  },
  {
   "cell_type": "code",
   "execution_count": 4,
   "id": "7973cebd-cb0c-4d4e-8781-a3d1e36ee74c",
   "metadata": {
    "tags": []
   },
   "outputs": [
    {
     "name": "stderr",
     "output_type": "stream",
     "text": [
      "/home/fhj/anaconda3/envs/cdvae/lib/python3.8/site-packages/hydra/experimental/compose.py:16: UserWarning: hydra.experimental.compose() is no longer experimental. Use hydra.compose()\n",
      "  warnings.warn(\n"
     ]
    }
   ],
   "source": [
    "with initialize_config_dir(str(model_path)):\n",
    "    # load config\n",
    "    cfg = compose(config_name='hparams')\n",
    "    \n",
    "    # load model\n",
    "    model = hydra.utils.instantiate(\n",
    "        cfg.model,\n",
    "        optim=cfg.optim,\n",
    "        data=cfg.data,\n",
    "        logging=cfg.logging,\n",
    "        _recursive_=False,\n",
    "    )\n",
    "    \n",
    "    model = model.load_from_checkpoint(ckpt)\n",
    "    model.lattice_scaler = torch.load(model_path / 'lattice_scaler.pt')\n",
    "    model.scaler = torch.load(model_path / 'prop_scaler.pt')"
   ]
  },
  {
   "cell_type": "markdown",
   "id": "b6953d50-13d3-4a25-b26a-000ed4ffe8e4",
   "metadata": {},
   "source": [
    "#### Define functions to get a batch from a cif string\n",
    "\n",
    "First load lattice and property scalers"
   ]
  },
  {
   "cell_type": "code",
   "execution_count": 5,
   "id": "18e2be8d-25c6-4122-bafc-72eebb5541ab",
   "metadata": {
    "tags": []
   },
   "outputs": [],
   "source": [
    "lattice_scaler = model.lattice_scaler\n",
    "scaler = model.scaler"
   ]
  },
  {
   "cell_type": "markdown",
   "id": "3158faaa-d02c-401a-bb53-80b2d1db414f",
   "metadata": {},
   "source": [
    "Now define function that takes in a string and returns the batch"
   ]
  },
  {
   "cell_type": "code",
   "execution_count": 6,
   "id": "0cb6716e-1e29-4ac4-8796-57bce85784dc",
   "metadata": {},
   "outputs": [],
   "source": [
    "from cdvae.common.data_utils import build_crystal, add_scaled_lattice_prop\n",
    "from torch_geometric.data import Data, Batch\n",
    "from pymatgen.io.ase import AseAtomsAdaptor\n",
    "from pymatgen.core import Lattice, Structure\n",
    "from pymatgen.analysis.graphs import StructureGraph\n",
    "from pymatgen.analysis import local_env\n",
    "\n",
    "CrystalNN = local_env.CrystalNN(\n",
    "    distance_cutoffs=None, x_diff_weight=-1, porous_adjustment=False)\n",
    "\n",
    "def atoms_to_structure(atoms):\n",
    "    lattice = Lattice(atoms.cell)\n",
    "    # lattice = Lattice.from_parameters(*atoms.cell.cellpar())\n",
    "    symbols = atoms.get_chemical_symbols()\n",
    "    positions = atoms.get_positions()\n",
    "    return Structure(lattice, symbols, positions, coords_are_cartesian=True)\n",
    "\n",
    "def build_crystal_graph(crystal, graph_method='crystalnn'):\n",
    "    \"\"\"\n",
    "    \"\"\"\n",
    "\n",
    "    if graph_method == 'crystalnn':\n",
    "        crystal_graph = StructureGraph.with_local_env_strategy(\n",
    "            crystal, CrystalNN)\n",
    "    elif graph_method == 'none':\n",
    "        pass\n",
    "    else:\n",
    "        raise NotImplementedError\n",
    "\n",
    "    frac_coords = crystal.frac_coords\n",
    "    atom_types = crystal.atomic_numbers\n",
    "    lattice_parameters = crystal.lattice.parameters\n",
    "    lengths = lattice_parameters[:3]\n",
    "    angles = lattice_parameters[3:]\n",
    "\n",
    "    edge_indices, to_jimages = [], []\n",
    "    if graph_method != 'none':\n",
    "        for i, j, to_jimage in crystal_graph.graph.edges(data='to_jimage'):\n",
    "            edge_indices.append([j, i])\n",
    "            to_jimages.append(to_jimage)\n",
    "            edge_indices.append([i, j])\n",
    "            to_jimages.append(tuple(-tj for tj in to_jimage))\n",
    "\n",
    "    atom_types = np.array(atom_types)\n",
    "    lengths, angles = np.array(lengths), np.array(angles)\n",
    "    edge_indices = np.array(edge_indices)\n",
    "    to_jimages = np.array(to_jimages)\n",
    "    num_atoms = atom_types.shape[0]\n",
    "\n",
    "    return frac_coords, atom_types, lengths, angles, edge_indices, to_jimages, num_atoms\n",
    "\n",
    "def process_one(atoms, graph_method=\"crystalnn\", formation_energy_per_atom=0, material_id=0):\n",
    "    crystal = atoms_to_structure(atoms)\n",
    "    graph_arrays = build_crystal_graph(crystal, graph_method)\n",
    "    return {\n",
    "        'mp_id': material_id,\n",
    "        'cif': crystal.to(fmt=\"cif\"),\n",
    "        'graph_arrays': graph_arrays,\n",
    "        \"formation_energy_per_atom\": formation_energy_per_atom,\n",
    "    }\n",
    "\n",
    "def get_batch(atoms, **process_kwargs):\n",
    "    d = [process_one(atoms, **process_kwargs)]\n",
    "    add_scaled_lattice_prop(d, \"scale_length\")\n",
    "    (frac_coords, atom_types, lengths, angles, edge_indices,\n",
    "     to_jimages, num_atoms) = d[0]['graph_arrays']\n",
    "\n",
    "    prop = scaler.transform(d[0][\"formation_energy_per_atom\"])\n",
    "    data = Data(\n",
    "        frac_coords=torch.Tensor(frac_coords),\n",
    "        atom_types=torch.LongTensor(atom_types),\n",
    "        lengths=torch.Tensor(lengths).view(1, -1),\n",
    "        angles=torch.Tensor(angles).view(1, -1),\n",
    "        edge_index=torch.LongTensor(\n",
    "            edge_indices.T).contiguous(),  # shape (2, num_edges)\n",
    "        to_jimages=torch.LongTensor(to_jimages),\n",
    "        num_atoms=num_atoms,\n",
    "        num_bonds=edge_indices.shape[0],\n",
    "        num_nodes=num_atoms,  # special attribute used for batching in pytorch geometric\n",
    "        y=prop.view(1, -1),\n",
    "    )\n",
    "\n",
    "    return Batch.from_data_list([data])"
   ]
  },
  {
   "cell_type": "markdown",
   "id": "d2360fdc-6396-4981-9b66-e48022aa2338",
   "metadata": {},
   "source": [
    "#### Ground truth latent space of Ag generation"
   ]
  },
  {
   "cell_type": "code",
   "execution_count": 7,
   "id": "75162bda-df88-466a-9476-a8ee49b734dc",
   "metadata": {},
   "outputs": [],
   "source": [
    "from pymatgen.core import Structure, Lattice\n",
    "from pymatgen.io.cif import CifFile\n",
    "\n",
    "# Reference structure of Ag from Materials Project, id=mp-124\n",
    "ag_cif = \"# generated using pymatgen\\ndata_Ag\\n_symmetry_space_group_name_H-M   'P 1'\\n_cell_length_a   4.10435636\\n_cell_length_b   4.10435636\\n_cell_length_c   4.10435636\\n_cell_angle_alpha   90.00000000\\n_cell_angle_beta   90.00000000\\n_cell_angle_gamma   90.00000000\\n_symmetry_Int_Tables_number   1\\n_chemical_formula_structural   Ag\\n_chemical_formula_sum   Ag4\\n_cell_volume   69.14092475\\n_cell_formula_units_Z   4\\nloop_\\n _symmetry_equiv_pos_site_id\\n _symmetry_equiv_pos_as_xyz\\n  1  'x, y, z'\\nloop_\\n _atom_site_type_symbol\\n _atom_site_label\\n _atom_site_symmetry_multiplicity\\n _atom_site_fract_x\\n _atom_site_fract_y\\n _atom_site_fract_z\\n _atom_site_occupancy\\n  Ag  Ag0  1  0.00000000  0.00000000  0.00000000  1.0\\n  Ag  Ag1  1  0.50000000  0.50000000  0.00000000  1.0\\n  Ag  Ag2  1  0.50000000  0.00000000  0.50000000  1.0\\n  Ag  Ag3  1  0.00000000  0.50000000  0.50000000  1.0\\n\"\n",
    "ag_structure = Structure.from_str(ag_cif, fmt=\"cif\")\n",
    "ag_atoms = AseAtomsAdaptor.get_atoms(ag_structure)\n",
    "\n",
    "batch = get_batch(ag_atoms)\n",
    "mu_t, log_t, z_t = model.encode(batch)"
   ]
  },
  {
   "cell_type": "markdown",
   "id": "ef4ee656-9ccb-40c3-a28a-0d1b80445c2a",
   "metadata": {},
   "source": [
    "#### Relax function"
   ]
  },
  {
   "cell_type": "code",
   "execution_count": 8,
   "id": "c6cbc6da-9580-4266-9fe1-234bf51be898",
   "metadata": {},
   "outputs": [
    {
     "name": "stdout",
     "output_type": "stream",
     "text": [
      "CHGNet initialized with 400,438 parameters\n",
      "CHGNet will run on cpu\n"
     ]
    }
   ],
   "source": [
    "import ase\n",
    "import io\n",
    "from ase.build import niggli_reduce\n",
    "from ase.constraints import ExpCellFilter\n",
    "from ase.optimize import FIRE\n",
    "from chgnet.model import StructOptimizer\n",
    "from ase.ga import set_raw_score\n",
    "import contextlib\n",
    "from ase.calculators.singlepoint import SinglePointCalculator\n",
    "\n",
    "relaxer = StructOptimizer()\n",
    "\n",
    "def finalize(atoms, energy=None, forces=None, stress=None):\n",
    "    # Finalizes the atoms by attaching a SinglePointCalculator\n",
    "    # and setting the raw score as the negative of the total energy\n",
    "    atoms.wrap()\n",
    "    calc = SinglePointCalculator(atoms, energy=energy, forces=forces,\n",
    "                                 stress=stress)\n",
    "    atoms.calc = calc\n",
    "    raw_score = -atoms.get_potential_energy()\n",
    "    set_raw_score(atoms, raw_score)\n",
    "\n",
    "def relax(atoms, cellbounds=None):\n",
    "    atoms.calc = relaxer.calculator  # assign model used to predict forces\n",
    "\n",
    "    converged = False\n",
    "    niter = 0\n",
    "    stream = io.StringIO()\n",
    "    with contextlib.redirect_stdout(stream):\n",
    "        while not converged and niter < 10:\n",
    "            if cellbounds is not None:\n",
    "                cell = atoms.get_cell()\n",
    "                if not cellbounds.is_within_bounds(cell):\n",
    "                    niggli_reduce(atoms)\n",
    "                cell = atoms.get_cell()\n",
    "                if not cellbounds.is_within_bounds(cell):\n",
    "                    # Niggli reduction did not bring the unit cell\n",
    "                    # within the specified bounds; this candidate should\n",
    "                    # be discarded so we set an absurdly high energy\n",
    "                    finalize(atoms, 1e9)\n",
    "                    return\n",
    "                \n",
    "            ecf = ExpCellFilter(atoms)\n",
    "            dyn = FIRE(ecf, maxmove=0.2, logfile=None, trajectory=None)\n",
    "            dyn.run(fmax=1e-3, steps=100)\n",
    "\n",
    "            converged = dyn.converged()\n",
    "            niter += 1\n",
    "    \n",
    "    dyn = FIRE(atoms, maxmove=0.2, logfile=None, trajectory=None)\n",
    "    dyn.run(fmax=1e-2, steps=100)\n",
    "\n",
    "    e = atoms.get_potential_energy()\n",
    "    f = atoms.get_forces()\n",
    "    s = atoms.get_stress()\n",
    "\n",
    "    batch = get_batch(atoms)\n",
    "    mu_x, log_x, z_x = model.encode(batch)\n",
    "    \n",
    "    input1 = torch.cat([mu_t,log_t],dim=1)\n",
    "    input2 = torch.cat((mu_x,log_x),dim=1)\n",
    "    cos_sim = float(F.cosine_similarity(input1[0], input2[0], dim=0, eps=1e-8))\n",
    "    \n",
    "    finalize(atoms, energy=-cos_sim, forces=f, stress=s)"
   ]
  },
  {
   "cell_type": "markdown",
   "id": "5c37e002-7454-45d2-84cc-3d6730ab3d60",
   "metadata": {
    "tags": []
   },
   "source": [
    "### Genetic algorithm"
   ]
  },
  {
   "cell_type": "code",
   "execution_count": 9,
   "id": "32b0d92f-8545-4581-8bd7-eb12369976d2",
   "metadata": {
    "tags": []
   },
   "outputs": [],
   "source": [
    "from ase import Atoms\n",
    "from ase.data import atomic_numbers\n",
    "from ase.ga.utilities import closest_distances_generator, CellBounds, get_all_atom_types\n",
    "from ase.ga.startgenerator import StartGenerator\n",
    "from ase.ga.data import PrepareDB, DataConnection\n",
    "from ase.io import write,cif\n",
    "from ase.ga import get_raw_score, set_raw_score\n",
    "from ase.ga.population import Population\n",
    "from ase.ga.ofp_comparator import OFPComparator\n",
    "from ase.ga.offspring_creator import OperationSelector\n",
    "from ase.ga.standardmutations import StrainMutation, RotationalMutation, RattleMutation, MirrorMutation\n",
    "from ase.ga.soft_mutation import SoftMutation\n",
    "from ase.ga.cutandsplicepairing import CutAndSplicePairing\n",
    "\n",
    "import io"
   ]
  },
  {
   "cell_type": "code",
   "execution_count": 10,
   "id": "ac7988d6-1af4-4251-b4ec-a41040ef18f9",
   "metadata": {},
   "outputs": [],
   "source": [
    "Path('/mnt/c/Users/Lenovo/Downloads/cdvae2/Ag.db').unlink()"
   ]
  },
  {
   "cell_type": "code",
   "execution_count": 11,
   "id": "af320ae8-483e-4423-bfda-ae9cc516d9e9",
   "metadata": {
    "tags": []
   },
   "outputs": [],
   "source": [
    "# Number of random initial structures to generate\n",
    "N = 20\n",
    "\n",
    "# Target cell volume for the initial structures, in angstrom^3\n",
    "volume = 69.\n",
    "\n",
    "natoms = 4\n",
    "# We may also write:\n",
    "blocks = ['Ag'] * natoms\n",
    "\n",
    "# Define the composition of the atoms to optimize\n",
    "Z = atomic_numbers['Ag']\n",
    "blmin = closest_distances_generator(atom_numbers=[Z],\n",
    "                                    ratio_of_covalent_radii=0.5)\n",
    "\n",
    "# Specify reasonable bounds on the minimal and maximal\n",
    "# cell vector lengths (in angstrom) and angles (in degrees)\n",
    "cellbounds = CellBounds(bounds={'phi': [35, 145], 'chi': [35, 145],\n",
    "                                'psi': [35, 145], 'a': [2, 50],\n",
    "                                'b': [2, 50], 'c': [2, 50]})\n",
    "\n",
    "# Choose an (optional) 'cell splitting' scheme which basically controls the level of translational symmetry (within the unit cell) of the randomly generated structures. \n",
    "# Here a 1:1 ratio of splitting factors 2 and 1 is used:\n",
    "splits = {(2,): 1, (1,): 1}\n",
    "# There will hence be a 50% probability that a can didateis constructed by repeating an randomly generated Ag12 structure along a randomly chosen axis. \n",
    "# In the other 50% of cases, no cell cell splitting will be applied.\n",
    "\n",
    "# The 'slab' object: a template in the creation of new structures, which inherit the slab's atomic positions (if any), \n",
    "# cell vectors (if specified), and periodic boundary conditions.\n",
    "# Here only the last property is relevant:\n",
    "slab = Atoms('', pbc=True)\n",
    "\n",
    "# Initialize the random structure generator\n",
    "sg = StartGenerator(slab, blocks, blmin, box_volume=volume,\n",
    "                    number_of_variable_cell_vectors=3,\n",
    "                    splits=splits, cellbounds=cellbounds)\n",
    "\n",
    "# Create the database\n",
    "da = PrepareDB(db_file_name='Ag.db',\n",
    "               stoichiometry=[Z] * natoms)\n",
    "\n",
    "# Generate N random structures and add them to the database\n",
    "for i in range(N):\n",
    "    a = sg.get_new_candidate()\n",
    "    da.add_unrelaxed_candidate(a)"
   ]
  },
  {
   "cell_type": "code",
   "execution_count": 12,
   "id": "445c8127-f7d7-4b24-9cce-a0a92beedefb",
   "metadata": {
    "tags": []
   },
   "outputs": [
    {
     "name": "stderr",
     "output_type": "stream",
     "text": [
      "/home/fhj/anaconda3/envs/cdvae/lib/python3.8/site-packages/ase/optimize/fire.py:65: VisibleDeprecationWarning: maxmove is deprecated; please use maxstep\n",
      "  warnings.warn('maxmove is deprecated; please use maxstep',\n"
     ]
    },
    {
     "name": "stdout",
     "output_type": "stream",
     "text": [
      "0.9531611800193787\n",
      "0.962939441204071\n",
      "0.9514378905296326\n",
      "0.9114278554916382\n",
      "0.9113357663154602\n",
      "0.9629392027854919\n",
      "0.911343514919281\n",
      "0.9531704187393188\n",
      "0.9112879037857056\n",
      "0.9636750817298889\n",
      "0.9531543254852295\n",
      "0.9629392027854919\n",
      "0.9629393219947815\n",
      "0.9629393219947815\n",
      "0.9111520648002625\n",
      "0.9227465987205505\n",
      "0.9789755344390869\n",
      "0.9111471772193909\n",
      "0.9789769053459167\n",
      "0.9113268852233887\n",
      "4 0.9789769053459167\n",
      "Now starting configuration number 0\n",
      "Step 0 mutation: strain 0.953 0.979 0.953\n",
      "Step 0 highest raw score in pop: 0.979\n",
      "Now starting configuration number 1\n",
      "Step 1 pairing: 20 11 0.979 0.964 0.953\n",
      "Step 1 highest raw score in pop: 0.979\n",
      "Now starting configuration number 2\n",
      "Step 2 mutation: strain 0.979 0.964 0.979\n",
      "Step 2 highest raw score in pop: 0.979\n",
      "Now starting configuration number 3\n",
      "Step 3 pairing: 42 11 0.953 0.964 0.948\n",
      "Step 3 highest raw score in pop: 0.979\n",
      "Now starting configuration number 4\n",
      "Step 4 pairing: 44 11 0.953 0.964 0.953\n",
      "Step 4 highest raw score in pop: 0.979\n",
      "Now starting configuration number 5\n",
      "Step 5 mutation: mirror 0.964 0.979 0.962\n",
      "Step 5 highest raw score in pop: 0.979\n",
      "Now starting configuration number 6\n",
      "Step 6 pairing: 46 42 0.979 0.953 0.914\n",
      "Step 6 highest raw score in pop: 0.979\n",
      "Now starting configuration number 7\n",
      "Step 7 mutation: strain 0.962 0.953 0.962\n",
      "Step 7 highest raw score in pop: 0.979\n",
      "Now starting configuration number 8\n",
      "Step 8 mutation: strain 0.962 0.962 0.911\n",
      "Step 8 highest raw score in pop: 0.979\n",
      "Now starting configuration number 9\n",
      "Step 9 mutation: mirror 0.914 0.979 0.914\n",
      "Step 9 highest raw score in pop: 0.979\n",
      "Now starting configuration number 10\n",
      "Step 10 mutation: mirror 0.962 0.962 0.953\n",
      "Step 10 highest raw score in pop: 0.979\n",
      "Now starting configuration number 11\n",
      "Step 11 mutation: mirror 0.962 0.962 0.967\n",
      "Step 11 highest raw score in pop: 0.979\n",
      "Now starting configuration number 12\n",
      "Step 12 mutation: mirror 0.967 0.964 0.945\n",
      "Step 12 highest raw score in pop: 0.979\n",
      "Now starting configuration number 13\n",
      "Step 13 pairing: 11 66 0.964 0.945 0.966\n",
      "Step 13 highest raw score in pop: 0.979\n",
      "Now starting configuration number 14\n",
      "Step 14 pairing: 44 52 0.953 0.962 0.953\n",
      "Step 14 highest raw score in pop: 0.979\n",
      "Now starting configuration number 15\n",
      "Step 15 pairing: 56 52 0.962 0.962 0.977\n",
      "Step 15 highest raw score in pop: 0.979\n",
      "Now starting configuration number 16\n",
      "Step 16 pairing: 46 72 0.979 0.977 0.911\n",
      "Step 16 highest raw score in pop: 0.979\n",
      "Now starting configuration number 17\n",
      "Step 17 pairing: 66 64 0.945 0.967 -1000000000.000\n",
      "Step 17 highest raw score in pop: 0.979\n",
      "Now starting configuration number 18\n",
      "Step 18 pairing: 56 52 0.962 0.962 0.966\n",
      "Step 18 highest raw score in pop: 0.979\n",
      "Now starting configuration number 19\n",
      "Step 19 mutation: strain 0.962 0.966 0.962\n",
      "Step 19 highest raw score in pop: 0.979\n",
      "GA finished after step 19\n",
      "Highest raw score =   0.9790 eV\n"
     ]
    }
   ],
   "source": [
    "# Connect to the database and retrieve some information\n",
    "da = DataConnection('Ag.db')\n",
    "slab = da.get_slab()\n",
    "atom_numbers_to_optimize = da.get_atom_numbers_to_optimize()\n",
    "n_top = len(atom_numbers_to_optimize)\n",
    "\n",
    "# Use Oganov's fingerprint functions to decide whether\n",
    "# two structures are identical or not\n",
    "comp = OFPComparator(n_top=n_top, dE=1.0, cos_dist_max=1e-3,\n",
    "                     rcut=10., binwidth=0.05, pbc=[True, True, True], \n",
    "                     sigma=0.05, nsigma=4, recalculate=False)\n",
    "\n",
    "# Define the cell and interatomic distance bounds\n",
    "# that the candidates must obey\n",
    "blmin = closest_distances_generator(atom_numbers_to_optimize, 0.5)\n",
    "\n",
    "cellbounds = CellBounds(bounds={'phi': [35, 145], 'chi': [35, 145],\n",
    "                                'psi': [35, 145], 'a': [2, 50],\n",
    "                                'b': [2, 50], 'c': [2, 50]})\n",
    "\n",
    "# Define a pairing operator with 100% (0%) chance that the first\n",
    "# (second) parent will be randomly translated, and with each parent\n",
    "# contributing to at least 15% of the child's scaled coordinates\n",
    "pairing = CutAndSplicePairing(slab, n_top, blmin, p1=1., p2=0., minfrac=0.15,\n",
    "                              number_of_variable_cell_vectors=3,\n",
    "                              cellbounds=cellbounds, use_tags=False)\n",
    "\n",
    "# Define a strain mutation with a typical standard deviation of 0.7\n",
    "# for the strain matrix elements (drawn from a normal distribution)\n",
    "strainmut = StrainMutation(blmin, stddev=0.7, cellbounds=cellbounds,\n",
    "                           number_of_variable_cell_vectors=3,\n",
    "                           use_tags=False)\n",
    "\n",
    "# Set up the relative probabilities for the different operators\n",
    "operators = OperationSelector([4., 3., 3.], \n",
    "                              [pairing, strainmut, MirrorMutation(blmin, n_top)])\n",
    "\n",
    "# Relax the initial candidates\n",
    "while da.get_number_of_unrelaxed_candidates() > 0:\n",
    "    a = da.get_an_unrelaxed_candidate()\n",
    "\n",
    "    relax(a, cellbounds=cellbounds)\n",
    "    da.add_relaxed_step(a)\n",
    "    print(get_raw_score(a))\n",
    "\n",
    "    cell = a.get_cell()\n",
    "    if not cellbounds.is_within_bounds(cell):\n",
    "        da.kill_candidate(a.info['confid'])\n",
    "\n",
    "# Initialize the population\n",
    "population_size = 20\n",
    "population = Population(data_connection = da,\n",
    "                        population_size = population_size,\n",
    "                        comparator = comp,\n",
    "                        use_extinct = True)\n",
    "\n",
    "# Update the scaling volume used in some operators\n",
    "# based on a number of the best candidates\n",
    "current_pop = population.get_current_population()\n",
    "print(len(current_pop), get_raw_score(current_pop[0]))\n",
    "strainmut.update_scaling_volume(current_pop, w_adapt=0.5, n_adapt=4)\n",
    "pairing.update_scaling_volume(current_pop, w_adapt=0.5, n_adapt=4)\n",
    "\n",
    "# Test n_to_test new candidates; in this example we need\n",
    "# only few GA iterations as the global minimum (FCC Ag)\n",
    "# is very easily found (typically already after relaxation\n",
    "# of the initial random structures).\n",
    "n_to_test = 20\n",
    "\n",
    "for step in range(n_to_test):\n",
    "    print('Now starting configuration number {0}'.format(step))\n",
    "    # Create a new candidate\n",
    "    a3 = None\n",
    "    while a3 is None:\n",
    "        a1, a2 = population.get_two_candidates()\n",
    "        a3, desc = operators.get_new_individual([a1, a2])\n",
    "\n",
    "    a3.set_pbc(np.array([True, True, True]))\n",
    "    # Save the unrelaxed candidate\n",
    "    da.add_unrelaxed_candidate(a3, description=desc)\n",
    "\n",
    "    # Relax the new candidate and save it\n",
    "    relax(a3, cellbounds=cellbounds)\n",
    "    da.add_relaxed_step(a3)\n",
    "\n",
    "    # If the relaxation has changed the cell parameters\n",
    "    # beyond the bounds we disregard it in the population\n",
    "    cell = a3.get_cell()\n",
    "    if not cellbounds.is_within_bounds(cell):\n",
    "        da.kill_candidate(a3.info['confid'])\n",
    "\n",
    "    # Update the population\n",
    "    population.update()\n",
    "    current_pop = population.get_current_population()\n",
    "    print('Step %d %s %.3f %.3f %.3f' % (step, desc, get_raw_score(a1), get_raw_score(a2), get_raw_score(a3)))\n",
    "    print('Step %d highest raw score in pop: %.3f' % (step, get_raw_score(current_pop[0])))\n",
    "\n",
    "    if step % 10 == 0:\n",
    "        # Update the scaling volumes of the strain mutation\n",
    "        # and the pairing operator based on the current\n",
    "        # best structures contained in the population\n",
    "        current_pop = population.get_current_population()\n",
    "        strainmut.update_scaling_volume(current_pop, w_adapt=0.5, n_adapt=4)\n",
    "        pairing.update_scaling_volume(current_pop, w_adapt=0.5, n_adapt=4)\n",
    "        write('current_population.traj', current_pop)\n",
    "            \n",
    "print('GA finished after step %d' % step)\n",
    "hiscore = get_raw_score(current_pop[0])\n",
    "print('Highest raw score = %8.4f eV' % hiscore)\n",
    "\n",
    "all_candidates = da.get_all_relaxed_candidates()\n",
    "write('all_candidates.traj', all_candidates)\n",
    "\n",
    "current_pop = population.get_current_population()\n",
    "write('current_population.traj', current_pop)"
   ]
  },
  {
   "cell_type": "code",
   "execution_count": 13,
   "id": "e4c387b7-5de4-4f8e-b1df-a9da8879fb7a",
   "metadata": {
    "tags": []
   },
   "outputs": [
    {
     "name": "stdout",
     "output_type": "stream",
     "text": [
      "True (0.0, 0.0)\n"
     ]
    }
   ],
   "source": [
    "from pymatgen.symmetry.analyzer import SpacegroupAnalyzer\n",
    "from pymatgen.analysis.structure_matcher import StructureMatcher\n",
    "from pymatgen.core import Structure\n",
    "\n",
    "def is_match(atoms, symprec=0.001):\n",
    "    s = AseAtomsAdaptor.get_structure(atoms)\n",
    "    sga = SpacegroupAnalyzer(s, symprec=symprec)\n",
    "    ps = sga.get_conventional_standard_structure()\n",
    "\n",
    "    sm = StructureMatcher(scale=False, primitive_cell=False)\n",
    "    print(sm.fit(ag_structure, ps), sm.get_rms_dist(ag_structure, ps))\n",
    "    \n",
    "is_match(current_pop[0])"
   ]
  },
  {
   "cell_type": "code",
   "execution_count": 14,
   "id": "6653a0ea-1b60-4719-9ad3-027308e09fc3",
   "metadata": {
    "collapsed": true,
    "jupyter": {
     "outputs_hidden": true
    },
    "tags": []
   },
   "outputs": [
    {
     "name": "stdout",
     "output_type": "stream",
     "text": [
      "raw score : 0.97898\n",
      "True (0.0, 0.0)\n",
      "raw score : 0.97707\n",
      "False None\n",
      "raw score : 0.96685\n",
      "False None\n",
      "raw score : 0.96627\n",
      "False None\n",
      "raw score : 0.96627\n",
      "False None\n",
      "raw score : 0.96368\n",
      "False None\n",
      "raw score : 0.96153\n",
      "False None\n",
      "raw score : 0.96153\n",
      "False None\n",
      "raw score : 0.95318\n",
      "False None\n",
      "raw score : 0.95316\n",
      "False None\n",
      "raw score : 0.95283\n",
      "False None\n",
      "raw score : 0.94459\n",
      "False None\n",
      "raw score : 0.91394\n",
      "False None\n"
     ]
    }
   ],
   "source": [
    "# Check if there is a hit in the current population\n",
    "for x in current_pop:\n",
    "    print('raw score : %.5f' % get_raw_score(x))\n",
    "    is_match(x)"
   ]
  },
  {
   "cell_type": "code",
   "execution_count": 15,
   "id": "7830f5fb-eb8c-4060-ad13-20d64a046beb",
   "metadata": {
    "collapsed": true,
    "jupyter": {
     "outputs_hidden": true
    },
    "tags": []
   },
   "outputs": [
    {
     "name": "stdout",
     "output_type": "stream",
     "text": [
      "raw score : 0.97898\n",
      "True (0.0, 0.0)\n",
      "raw score : 0.97898\n",
      "False None\n",
      "raw score : 0.97898\n",
      "False None\n",
      "raw score : 0.97707\n",
      "False None\n",
      "raw score : 0.96685\n",
      "False None\n",
      "raw score : 0.96627\n",
      "False None\n",
      "raw score : 0.96627\n",
      "False None\n",
      "raw score : 0.96368\n",
      "False None\n",
      "raw score : 0.96294\n",
      "True (0.0, 0.0)\n",
      "raw score : 0.96294\n",
      "True (0.0, 0.0)\n",
      "raw score : 0.96294\n",
      "False None\n",
      "raw score : 0.96294\n",
      "False None\n",
      "raw score : 0.96294\n",
      "False None\n",
      "raw score : 0.96153\n",
      "False None\n",
      "raw score : 0.96153\n",
      "False None\n",
      "raw score : 0.96153\n",
      "False None\n",
      "raw score : 0.95318\n",
      "False None\n",
      "raw score : 0.95317\n",
      "False None\n",
      "raw score : 0.95316\n",
      "False None\n",
      "raw score : 0.95316\n",
      "False None\n",
      "raw score : 0.95316\n",
      "False None\n",
      "raw score : 0.95316\n",
      "False None\n",
      "raw score : 0.95315\n",
      "False None\n",
      "raw score : 0.95283\n",
      "False None\n",
      "raw score : 0.95144\n",
      "True (0.0, 0.0)\n",
      "raw score : 0.94821\n",
      "True (0.0, 0.0)\n",
      "raw score : 0.94459\n",
      "False None\n",
      "raw score : 0.92275\n",
      "False None\n",
      "raw score : 0.91394\n",
      "False None\n",
      "raw score : 0.91393\n",
      "False None\n",
      "raw score : 0.91143\n",
      "False None\n",
      "raw score : 0.91138\n",
      "False None\n",
      "raw score : 0.91134\n",
      "False None\n",
      "raw score : 0.91134\n",
      "False None\n",
      "raw score : 0.91133\n",
      "False None\n",
      "raw score : 0.91129\n",
      "False None\n",
      "raw score : 0.91122\n",
      "False None\n",
      "raw score : 0.91115\n",
      "False None\n",
      "raw score : 0.91115\n",
      "False None\n",
      "raw score : -1000000000.00000\n",
      "False None\n"
     ]
    }
   ],
   "source": [
    "# Check if there is a hit in all candidates\n",
    "for x in all_candidates:\n",
    "    print('raw score : %.5f' % get_raw_score(x))\n",
    "    is_match(x)"
   ]
  },
  {
   "cell_type": "code",
   "execution_count": 18,
   "id": "33fe8982-2b7b-4b6e-8c0b-6d7dae6a86e8",
   "metadata": {
    "tags": []
   },
   "outputs": [
    {
     "name": "stdout",
     "output_type": "stream",
     "text": [
      "True (0.0, 0.0)\n",
      "0.9482123255729675\n",
      "0.9992227554321289\n",
      "0.9617213010787964\n"
     ]
    }
   ],
   "source": [
    "# Get a True structure from all candidates, and test the \n",
    "# cosine similarity of the original, conventional, and primitive structures\n",
    "\n",
    "a = all_candidates[-15]\n",
    "s = AseAtomsAdaptor.get_structure(a)\n",
    "sga = SpacegroupAnalyzer(s, symprec=0.001)\n",
    "cs = sga.get_conventional_standard_structure()\n",
    "ps = sga.get_primitive_standard_structure()\n",
    "s.to(filename='original.vasp', fmt=\"poscar\")\n",
    "cs.to(filename='conventional.vasp', fmt=\"poscar\")\n",
    "ps.to(filename='primitive.vasp', fmt=\"poscar\")\n",
    "\n",
    "# If conventional structure of the found structure match the ground true structure\n",
    "sm = StructureMatcher(scale=False, primitive_cell=False)\n",
    "print(sm.fit(ag_structure, cs), sm.get_rms_dist(ag_structure, cs))\n",
    "\n",
    "# Check the cosine similarity of the orinial structure with the ground true structure\n",
    "batch = get_batch(AseAtomsAdaptor.get_atoms(s))\n",
    "mu_x, log_x, z_x = model.encode(batch)\n",
    "input1 = torch.cat([mu_t,log_t],dim=1)\n",
    "input2 = torch.cat((mu_x,log_x),dim=1)\n",
    "print(float(F.cosine_similarity(input1[0], input2[0], dim=0, eps=1e-8)))\n",
    "\n",
    "# Check the cosine similarity of the conventional structure with the ground true structure\n",
    "batch = get_batch(AseAtomsAdaptor.get_atoms(cs))\n",
    "mu_x, log_x, z_x = model.encode(batch)\n",
    "input2 = torch.cat((mu_x,log_x),dim=1)\n",
    "print(float(F.cosine_similarity(input1[0], input2[0], dim=0, eps=1e-8)))\n",
    "\n",
    "# Check the cosine similarity of the primitive structure with the ground true structure\n",
    "batch = get_batch(AseAtomsAdaptor.get_atoms(ps))\n",
    "mu_x, log_x, z_x = model.encode(batch)\n",
    "input2 = torch.cat((mu_x,log_x),dim=1)\n",
    "print(float(F.cosine_similarity(input1[0], input2[0], dim=0, eps=1e-8)))"
   ]
  },
  {
   "cell_type": "markdown",
   "id": "2ee5ca5b-467b-4961-ac39-9ee4a1bb0189",
   "metadata": {},
   "source": [
    "### Test the structure invariance of CDVAE"
   ]
  },
  {
   "cell_type": "markdown",
   "id": "65194a3c-2549-4902-b164-c94131932c83",
   "metadata": {},
   "source": [
    "- Try invariance with respect to periodicity (supercell)"
   ]
  },
  {
   "cell_type": "code",
   "execution_count": 19,
   "id": "e47c9342-2a82-4f43-9c09-5e79cd389798",
   "metadata": {},
   "outputs": [
    {
     "name": "stdout",
     "output_type": "stream",
     "text": [
      "0.8800023198127747\n"
     ]
    }
   ],
   "source": [
    "supercell = ag_structure.copy() * [2, 2, 2]\n",
    "supercell.to(filename='supercell.vasp', fmt=\"poscar\")\n",
    "\n",
    "batch = get_batch(AseAtomsAdaptor.get_atoms(supercell))\n",
    "mu_x, log_x, z_x = model.encode(batch)\n",
    "input1 = torch.cat([mu_t,log_t],dim=1)\n",
    "input2 = torch.cat((mu_x,log_x),dim=1)\n",
    "print(float(F.cosine_similarity(input1[0], input2[0], dim=0, eps=1e-8)))"
   ]
  },
  {
   "cell_type": "markdown",
   "id": "2ea1eac5-34f6-46e9-9404-b7c0233bc406",
   "metadata": {},
   "source": [
    "- Try invariance with respect to translation."
   ]
  },
  {
   "cell_type": "code",
   "execution_count": 25,
   "id": "50adcbf7-9f12-4a81-8060-6f19f0ce63f0",
   "metadata": {},
   "outputs": [
    {
     "name": "stdout",
     "output_type": "stream",
     "text": [
      "1.0\n"
     ]
    }
   ],
   "source": [
    "supercell = ag_structure.copy()\n",
    "supercell.translate_sites(list(range(len(supercell))), [0.33333, 0.33333, 0.75])\n",
    "\n",
    "batch = get_batch(AseAtomsAdaptor.get_atoms(supercell))\n",
    "mu_x, log_x, z_x = model.encode(batch)\n",
    "input1 = torch.cat([mu_t,log_t],dim=1)\n",
    "input2 = torch.cat((mu_x,log_x),dim=1)\n",
    "print(float(F.cosine_similarity(input1[0], input2[0], dim=0, eps=1e-8)))"
   ]
  },
  {
   "cell_type": "markdown",
   "id": "9361b7cc-85f8-4b7f-991f-42df4668cf24",
   "metadata": {},
   "source": [
    "- Try invariance with respect to rotation"
   ]
  },
  {
   "cell_type": "code",
   "execution_count": 26,
   "id": "ac12b0ba-d737-482e-b772-176661fabbbb",
   "metadata": {},
   "outputs": [
    {
     "name": "stdout",
     "output_type": "stream",
     "text": [
      "1.0\n"
     ]
    }
   ],
   "source": [
    "from pymatgen.core.operations import SymmOp\n",
    "\n",
    "op = SymmOp.from_origin_axis_angle(\n",
    "    origin = [0, 0, 0],\n",
    "    axis = [1, 0, 0],\n",
    "    angle = 45\n",
    ")\n",
    "supercell = ag_structure.copy()\n",
    "supercell = supercell.apply_operation(op)\n",
    "\n",
    "batch = get_batch(AseAtomsAdaptor.get_atoms(supercell))\n",
    "mu_x, log_x, z_x = model.encode(batch)\n",
    "input1 = torch.cat([mu_t,log_t],dim=1)\n",
    "input2 = torch.cat((mu_x,log_x),dim=1)\n",
    "print(float(F.cosine_similarity(input1[0], input2[0], dim=0, eps=1e-8)))"
   ]
  },
  {
   "cell_type": "code",
   "execution_count": null,
   "id": "5c00e905-5f62-431d-af53-d9b11a6f1223",
   "metadata": {},
   "outputs": [],
   "source": []
  }
 ],
 "metadata": {
  "kernelspec": {
   "display_name": "cdvae",
   "language": "python",
   "name": "cdvae"
  },
  "language_info": {
   "codemirror_mode": {
    "name": "ipython",
    "version": 3
   },
   "file_extension": ".py",
   "mimetype": "text/x-python",
   "name": "python",
   "nbconvert_exporter": "python",
   "pygments_lexer": "ipython3",
   "version": "3.8.16"
  }
 },
 "nbformat": 4,
 "nbformat_minor": 5
}
